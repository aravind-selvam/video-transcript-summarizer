{
 "cells": [
  {
   "cell_type": "code",
   "execution_count": 5,
   "metadata": {},
   "outputs": [],
   "source": [
    "import os\n",
    "import whisper\n",
    "import warnings\n",
    "import tempfile\n",
    "import ffmpeg\n",
    "\n",
    "def get_audio(paths):\n",
    "    temp_dir = tempfile.gettempdir()\n",
    "    audio_paths = {}\n",
    "    for path in paths:\n",
    "        filename = os.path.basename(path).split('.')[0]\n",
    "        print(f\"Extracting audio from {os.path.basename(path)}...\")\n",
    "        output_path = os.path.join(temp_dir, f\"{filename}.wav\")\n",
    "\n",
    "        ffmpeg.input(path).output(\n",
    "            output_path,\n",
    "            acodec=\"pcm_s16le\", ac=1, ar=\"16k\"\n",
    "        ).run(quiet=True, overwrite_output=True)\n",
    "        audio_paths[path] = output_path\n",
    "    return audio_paths\n",
    "\n",
    "def write_transcript(audio_path, srt_path, transcribe):\n",
    "    print(f\"Generating transcript for {os.path.basename(audio_path)} audio... This might take a while.\")\n",
    "\n",
    "    warnings.filterwarnings(\"ignore\")\n",
    "    result = transcribe(audio_path)\n",
    "    warnings.filterwarnings(\"default\")\n",
    "\n",
    "    with open(srt_path, \"w\", encoding=\"utf-8\") as f:\n",
    "        f.write(result[\"text\"] + os.linesep)\n",
    "    return result\n",
    "\n",
    "def get_transcript(audio_paths: list, output_text: bool, output_dir: str, transcribe: callable):\n",
    "    text_path = output_dir if output_text else tempfile.gettempdir()\n",
    "    for path, audio_path in audio_paths.items():\n",
    "        filename = os.path.basename(path).split('.')[0]\n",
    "        srt_path = os.path.join(text_path, f\"{filename}.txt\")\n",
    "\n",
    "        result = write_transcript(audio_path, srt_path, transcribe)\n",
    "    return result\n",
    "\n",
    "def initiate_stt(video_path:str, model:str, output_dir:str, srt:bool, verbose:bool, \n",
    "                ):\n",
    "    os.makedirs(output_dir, exist_ok=True)\n",
    "    if model.endswith(\".en\"):\n",
    "        print(f\"{model} is a English model\")\n",
    "    model = whisper.load_model(model)\n",
    "    audio = get_audio(video_path)\n",
    "    subtitle = get_transcript(\n",
    "                audio, srt, output_dir, lambda audio_path: model.transcribe(audio_path, \n",
    "                                                verbose=verbose, task='transcribe'))\n",
    "    return subtitle"
   ]
  },
  {
   "cell_type": "code",
   "execution_count": 6,
   "metadata": {},
   "outputs": [
    {
     "name": "stdout",
     "output_type": "stream",
     "text": [
      "tiny.en is a English model\n",
      "Extracting audio from 003_Project Setup.mp4...\n",
      "Generating transcript for 003_Project Setup.wav audio... This might take a while.\n"
     ]
    },
    {
     "name": "stderr",
     "output_type": "stream",
     "text": [
      "100%|██████████| 18421/18421 [00:16<00:00, 1147.14frames/s]\n"
     ]
    }
   ],
   "source": [
    "import sys\n",
    "vid_path = r\"D:\\Recordings\\final\\pyproject\\003_Project Setup.mp4\"\n",
    "try:\n",
    "    subtitle = initiate_stt(video_path=[vid_path],\n",
    "    model='tiny.en', output_dir='transcript_text', srt=True, verbose=False)\n",
    "except Exception as e:\n",
    "    print(f'error {sys.stderr}')"
   ]
  },
  {
   "cell_type": "code",
   "execution_count": 7,
   "metadata": {},
   "outputs": [],
   "source": [
    "from transformers import AutoModelForSeq2SeqLM,AutoTokenizer\n",
    "\n",
    "# Load tokenizer \n",
    "tokenizer = AutoTokenizer.from_pretrained(\"sshleifer/distilbart-cnn-12-6\")\n",
    "# Load model \n",
    "model = AutoModelForSeq2SeqLM.from_pretrained(\"sshleifer/distilbart-cnn-12-6\")"
   ]
  },
  {
   "cell_type": "code",
   "execution_count": 8,
   "metadata": {},
   "outputs": [
    {
     "data": {
      "text/plain": [
       "\" In this video, we will be creating our basic project setup . Let's start with GitHub, then click on Repostries and create a private repository . Next step is we will just clone this report to our local system . We can make whatever changes we want in this local repo and then push it after every change .\""
      ]
     },
     "execution_count": 8,
     "metadata": {},
     "output_type": "execute_result"
    }
   ],
   "source": [
    "inputs = tokenizer(subtitle['text'], \n",
    "                max_length=512, \n",
    "                truncation=True,\n",
    "                return_tensors=\"pt\")\n",
    "\n",
    "summary_ids = model.generate(inputs[\"input_ids\"], max_new_tokens=512)\n",
    "tokenizer.batch_decode(summary_ids, skip_special_tokens=True, clean_up_tokenization_spaces=False)[0]"
   ]
  },
  {
   "cell_type": "code",
   "execution_count": null,
   "metadata": {},
   "outputs": [],
   "source": []
  }
 ],
 "metadata": {
  "kernelspec": {
   "display_name": "Python 3 (ipykernel)",
   "language": "python",
   "name": "python3"
  },
  "language_info": {
   "codemirror_mode": {
    "name": "ipython",
    "version": 3
   },
   "file_extension": ".py",
   "mimetype": "text/x-python",
   "name": "python",
   "nbconvert_exporter": "python",
   "pygments_lexer": "ipython3",
   "version": "3.10.0 | packaged by conda-forge | (default, Nov 10 2021, 13:20:59) [MSC v.1916 64 bit (AMD64)]"
  },
  "vscode": {
   "interpreter": {
    "hash": "66c91199de525871c37545829478ca42e0e24ecc1b61f7fbc8785f742c7ae7ad"
   }
  }
 },
 "nbformat": 4,
 "nbformat_minor": 2
}
