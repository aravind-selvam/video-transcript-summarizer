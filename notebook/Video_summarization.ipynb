{
  "cells": [
    {
      "cell_type": "markdown",
      "metadata": {
        "id": "qQmVmsd9jAWY"
      },
      "source": [
        "# Video Summarization Project"
      ]
    },
    {
      "cell_type": "markdown",
      "metadata": {
        "id": "gWSlmMzXjiLc"
      },
      "source": [
        "## Download Video from youtube"
      ]
    },
    {
      "cell_type": "code",
      "execution_count": null,
      "metadata": {
        "id": "fK858VEfjIDf"
      },
      "outputs": [],
      "source": [
        "!pip install pytube -q"
      ]
    },
    {
      "cell_type": "code",
      "execution_count": null,
      "metadata": {
        "colab": {
          "base_uri": "https://localhost:8080/"
        },
        "id": "xsi0EqqXi9Db",
        "outputId": "0fc2e183-b8a7-4540-962d-3412af5b150b"
      },
      "outputs": [
        {
          "name": "stdout",
          "output_type": "stream",
          "text": [
            "Download is completed successfully\n"
          ]
        }
      ],
      "source": [
        "from pytube import YouTube\n",
        "\n",
        "def Download(link):\n",
        "    youtubeObject = YouTube(link)\n",
        "    youtubeObject = youtubeObject.streams.get_highest_resolution()\n",
        "    try:\n",
        "        youtubeObject.download()\n",
        "    except:\n",
        "        print(\"An error has occurred\")\n",
        "    print(\"Download is completed successfully\")\n",
        "\n",
        "\n",
        "link = \"https://youtu.be/WEm3EUdicDg\"\n",
        "Download(link)"
      ]
    },
    {
      "cell_type": "markdown",
      "metadata": {
        "id": "OVOwVtQtjlGM"
      },
      "source": [
        "## Get Transcript"
      ]
    },
    {
      "cell_type": "code",
      "execution_count": null,
      "metadata": {
        "id": "RHHaJrrojpNK"
      },
      "outputs": [],
      "source": [
        "!pip install git+https://github.com/pszemraj/vid2cleantxt.git"
      ]
    },
    {
      "cell_type": "code",
      "execution_count": null,
      "metadata": {
        "colab": {
          "base_uri": "https://localhost:8080/"
        },
        "id": "3HWn7u8vjSlr",
        "outputId": "f5b5ddc2-9cee-426f-ac65-a9c7168eaa6c"
      },
      "outputs": [
        {
          "name": "stderr",
          "output_type": "stream",
          "text": [
            "/usr/local/lib/python3.8/dist-packages/torch/cuda/__init__.py:497: UserWarning: Can't initialize NVML\n",
            "  warnings.warn(\"Can't initialize NVML\")\n",
            "WARNING:root:Since the GPL-licensed package `unidecode` is not installed, using Python's `unicodedata` package which yields worse results.\n"
          ]
        },
        {
          "name": "stdout",
          "output_type": "stream",
          "text": [
            "data folder is set to `/usr/local/lib/python3.8/dist-packages/neuspell/../data` script\n"
          ]
        }
      ],
      "source": [
        "import vid2cleantxt"
      ]
    },
    {
      "cell_type": "code",
      "execution_count": null,
      "metadata": {
        "colab": {
          "base_uri": "https://localhost:8080/",
          "height": 105
        },
        "id": "RkgPtGsdke_I",
        "outputId": "f4e6fb47-c851-44c4-ffae-9abc96a8eb1c"
      },
      "outputs": [
        {
          "data": {
            "application/vnd.google.colaboratory.intrinsic+json": {
              "type": "string"
            },
            "text/plain": [
              "'transcribe_dir - transcribe all videos in a directory\\n\\n:param str input_src: the path to the directory containing the videos to transcribe\\n:param int chunk_length: the length of the chunks to split the audio into, in seconds. Default is 30 seconds\\n:param str model_id: the model id to use for the transcription. Default is openai/whisper-base.en\\n:param bool basic_spelling: if True, use basic spelling correction instead of neural spell correction\\n:param bool move_comp: if True, move the completed files to a new folder\\n:param bool join_text: if True, join all lines of text into one long string\\n:param bool print_memory_usage: if True, print the memory usage of the system during the transcription\\n:param bool verbose: if True, print out more information\\n\\n-------\\n:return str, str: the path to the directory of transcribed text files, and the path to the directory of metadata files'"
            ]
          },
          "execution_count": 7,
          "metadata": {},
          "output_type": "execute_result"
        }
      ],
      "source": [
        "import inspect \n",
        "import pprint as pp\n",
        "\n",
        "docstring =inspect.getdoc(vid2cleantxt.transcribe.transcribe_dir)\n",
        "# pp.pformat(docstring)\n",
        "docstring"
      ]
    },
    {
      "cell_type": "code",
      "execution_count": null,
      "metadata": {
        "colab": {
          "base_uri": "https://localhost:8080/",
          "height": 232,
          "referenced_widgets": [
            "de14caceecbc40b6b406b16162fcc9f8",
            "85b2ab222a04463c9a2b29e56aca3952",
            "f8f9188b3f034f358f69a02a32510ece",
            "1d97048fc10c48cc8eb5a8d005cad0de",
            "f95cbd7d467a4810a4e62ec92740b4d3",
            "18c468a36059410ebdd491842c768275",
            "2645906c312249869a9ee1e993676d79",
            "e1128c7155834b58914c1d9545952ea1",
            "64de9d7ebb6746308536c2a981f10fe8",
            "5497228e5e924ee8a073f926d9452ffc",
            "503a239fe183432e9b3b4568df002214",
            "69123197fbc24a5eb8d8db5c4c1f90fc",
            "39489d38177741a580d43158a617e4b2",
            "090defc0634e4b218f296b7b6aca77e5",
            "c723d6fdae09411f9fbe94d778db4257",
            "c33387a473f845e79071f6c6cd325f06",
            "4a9bbefce76d4ea4939f1bc153b6fabe",
            "83f1a66e47e94b18a116b1fc96377cb4",
            "103e3aeee87c4b069fe4f5272ae31e9a",
            "8ec04918fff147c1b556a0a4a9f3ea85",
            "8272e811cb4043a0b21d5a6f38d760ce",
            "335af7028a0b4cc6be980dac4cd5b889",
            "ff530a15ff554c07a514fc896d7f08f9",
            "4e636a89f83c427a957e1b0455a5edb0",
            "2a529709cf1e48c2816945211b36ca5b",
            "2e5b2a5751a24924b8ac2e954314ee31",
            "4a48c35885144c87841484ddbfbfd6a0",
            "08c94e95a9fe40b2bf4d12f4735b65a9",
            "18a47b4907874d50a8d2075fea4a1b2d",
            "fa126a42c9bc4df4adbb39436b97187d",
            "cab47d6aaec5401e9be42c4d05c0b4d5",
            "9c347cdde55d4842a6acb1f468798c82",
            "b213226689d3452bbce84de64471816d",
            "81c96d0c65f04bcba6aa7eededc5e418",
            "12ee852272c14af396c1ae286dbd0ecb",
            "67459af7512449168b2894c023f70e54",
            "4c26a5ddce8643f787fa1434bda9b365",
            "e062d45696da42e0828c6714c6da7524",
            "a9e7898b5d334eb3b7f28d163be89763",
            "6ffdf52d8dd747f38c16ec9065bde446",
            "746ef9c89e3840aba18488250c83e4a9",
            "85dad7e5a51f4b8fb9baa00932fc2238",
            "76fd67056c694e87999286a5efbca8c2",
            "f2aade17b2494b0da5c93d02e1f5e866"
          ]
        },
        "id": "GHYUVYRbkqYV",
        "outputId": "5e50946e-7773-405d-96ac-4385e30ef442"
      },
      "outputs": [
        {
          "name": "stdout",
          "output_type": "stream",
          "text": [
            "\n",
            "Loading models @ Jan-09-2023_-11-27-08 - may take some time...\n",
            "if RT seems excessive, try --verbose flag or checking logfile\n"
          ]
        },
        {
          "name": "stderr",
          "output_type": "stream",
          "text": [
            "WARNING:root:Failed loading NeuSpell spellchecker, reverting to basic spellchecker\n",
            "WARNING:root:invalid load key, '<'.\n"
          ]
        },
        {
          "data": {
            "application/vnd.jupyter.widget-view+json": {
              "model_id": "de14caceecbc40b6b406b16162fcc9f8",
              "version_major": 2,
              "version_minor": 0
            },
            "text/plain": [
              "transcribing...:   0%|          | 0/1 [00:00<?, ?it/s]"
            ]
          },
          "metadata": {},
          "output_type": "display_data"
        },
        {
          "data": {
            "application/vnd.jupyter.widget-view+json": {
              "model_id": "69123197fbc24a5eb8d8db5c4c1f90fc",
              "version_major": 2,
              "version_minor": 0
            },
            "text/plain": [
              "Creating .wav audio clips:   0%|          | 0/42 [00:00<?, ?it/s]"
            ]
          },
          "metadata": {},
          "output_type": "display_data"
        },
        {
          "data": {
            "application/vnd.jupyter.widget-view+json": {
              "model_id": "ff530a15ff554c07a514fc896d7f08f9",
              "version_major": 2,
              "version_minor": 0
            },
            "text/plain": [
              "Transcribing video:   0%|          | 0/42 [00:00<?, ?it/s]"
            ]
          },
          "metadata": {},
          "output_type": "display_data"
        },
        {
          "data": {
            "application/vnd.jupyter.widget-view+json": {
              "model_id": "81c96d0c65f04bcba6aa7eededc5e418",
              "version_major": 2,
              "version_minor": 0
            },
            "text/plain": [
              "SC_pipeline - transcribed audio:   0%|          | 0/2 [00:00<?, ?it/s]"
            ]
          },
          "metadata": {},
          "output_type": "display_data"
        }
      ],
      "source": [
        "text_output, metadata_output = vid2cleantxt.transcribe.transcribe_dir(\n",
        "    input_dir=\"/content/data1\",\n",
        "    model_id='openai/whisper-small.en',\n",
        "    chunk_length=30,\n",
        "    join_text=True,\n",
        ")"
      ]
    },
    {
      "cell_type": "code",
      "execution_count": null,
      "metadata": {
        "colab": {
          "base_uri": "https://localhost:8080/",
          "height": 36
        },
        "id": "SYhNYSQYk0Xd",
        "outputId": "d15b5d63-20c0-40a3-9fb3-0e80fbad8d49"
      },
      "outputs": [
        {
          "data": {
            "application/vnd.google.colaboratory.intrinsic+json": {
              "type": "string"
            },
            "text/plain": [
              "'/content/data1/v2clntxt_transcriptions/results_SC_pipeline'"
            ]
          },
          "execution_count": 9,
          "metadata": {},
          "output_type": "execute_result"
        }
      ],
      "source": [
        "text_output"
      ]
    },
    {
      "cell_type": "code",
      "execution_count": null,
      "metadata": {
        "colab": {
          "base_uri": "https://localhost:8080/",
          "height": 36
        },
        "id": "4s2b5Wb_62_W",
        "outputId": "60125d6e-81eb-406b-f0f1-4f14bdc231a6"
      },
      "outputs": [
        {
          "data": {
            "application/vnd.google.colaboratory.intrinsic+json": {
              "type": "string"
            },
            "text/plain": [
              "'/content/data1/v2clntxt_transc_metadata'"
            ]
          },
          "execution_count": 10,
          "metadata": {},
          "output_type": "execute_result"
        }
      ],
      "source": [
        "metadata_output"
      ]
    },
    {
      "cell_type": "code",
      "execution_count": null,
      "metadata": {
        "colab": {
          "base_uri": "https://localhost:8080/",
          "height": 1000
        },
        "id": "GQ6HmviG65vy",
        "outputId": "abd8586c-dfa3-4f7b-f3e5-1a3f49ce635f"
      },
      "outputs": [
        {
          "data": {
            "application/vnd.google.colaboratory.intrinsic+json": {
              "type": "string"
            },
            "text/plain": [
              "\"Hi there and welcome to my python crash course on a new boston channel in this tutorial we'll be looking at the different types of syntax assigning variables looking at the different data types using numbers strings different boolean values operators different kinds of loops functions classes and even objects now if all of the stuff that i've just said made no sense to you then i challenge you to watch till the end of the tutorial and i assure you that by the end you'll have a great understanding of all of these topics. Also as you can probably imagine i put a lot of work and effort into making this tutorial so it'd mean the world to me if you could go ahead and subscribe to my channel it should be the first link in the description thanks so much for that and let's get right into it so let's start off with looking at comments now comments can be used to explain python code and they can also be used to make code more readable now a comment always starts with a hash and python will. And. A. Now changing a type is as simple as making something from an integer to a string or a string to an integer if you want to specify the data type of a variable this can be done with casting so if you go ahead and say a equals a string and in brackets 10 then a will be 10 but in quotations and hence it will print out as a string now we can also go ahead and say a equals to the integer. In addition to that we can also say that a equals to flow in practice 3 all this does is that it adds the decimal place to the end of 3 and hence the result 3 0 let's now have a look at single or double quotes string variables can be declared either by using a single quote or a double let's have a look at what the difference is so if you go ahead and say a equals to coding in double quotes and then we also go ahead and. And say a equals to coding in single quotations the output that we get here is actually going to be the exact same another key thing to take into consideration is the variable names are case sensitive for this one we're going to have a capital a and we're going to assign this value to python and now we're going to have a small a right below it and we're going to assign the value to variables let's now go ahead and print both of these out to see what we get as you can see here we get two different results. Because the capital a will not overwrite the other let's now go ahead and look at data types now there are a lot of different types of built in data types in programming data type is a very important concept variables can store data of different types hence data types some of the data types that are built into python are str or string for text int or integer and flow for numeric types list tuple and range for sequence types as well as book for boolean types. Let's have a look at how you can get the data type so if you don't remember getting a data type can be done by using the type function here i'm going to go ahead and say a equals 5 and i'm going to go ahead and print out type a as you can see it tells us that a is an integer let's now have a look at numbers so there are two main numeric types in python int or integer and float. Variables of numeric types are created when you assign a value to them now let's go ahead and say a equals to 1 and a equals to 2 8 if you go ahead and print out the type for both a and a it tells us that a is an integer and a is a float int or integer is basically a whole number it can be positive or negative but it cannot have any decimals float on the other hand is a floating point number and it can be either positive or negative but it has to contain. Let's now have a look at strings strings in python are surrounded by single quotations or double quotation marks hellions delectation is the same as hello double and you can display a string literal with a print function you can also assign a multilane string to a variable by using 3 quotes as i showed you earlier we can also use 3 quotes for making multilane comments however when it's connected to a variable it's a value. A equals triple quotes and some sample text in multi lines as you can see when we print this out in printer in more than one line now again it doesn't matter if you use three single quotes or three double quotes they both still do output the same result like many other programming languages strings in python are arrays of bytes representing unicode characters however python doesn't actually have a character data type it's simply a string with a length of 1 square brackets can be used to access the elements of a string. So we're gonna go ahead and say a equals to hello world and we're gonna go ahead and print out a but after the a we're gonna add in square brackets and say 1 in the middle now before i print this out try to have a go yourself to see what you get as you can see here it prints out the a that's because the first character actually has a position of 0 and not 1 so if we did the same thing with 0 instead of 1 then it would print out a instead you can also get the length of a string by using the len function to try this out we're gonna carry on with our example with a. In programming you often need to know if an expression is true or false now evaluating any expression in python will get you one of these two answers. So let's go ahead and say print 10 is greater than 9 10 equals to 9 and 10 is smaller than 9 and the result that we get should be in this order true false and false because 10 is greater than 9 however the next two after that are false when in turn run a condition in an if statement python will again return either true or false we're gonna go ahead and say a equals to 100 and a equals to 50 let's also say that if a is. Print book. Any value is evaluated to true if it has some sort of content any string is true except for empty strings and any number is true except for 0 any list tuple or even sets are all true except for the ones that have nothing in them so again we're gonna go ahead and say book and then we're gonna say acc bool123 and book a list of apple cherry and banana now we haven't really looked at the list yet but we'll be looking at that in a second anyways the output here should all be true. In fact there's really not that many values that evaluate to false except for empty values the number 0 and even the value of none and of course the value false also evaluates to false to have a look at all of this let's say book false book none book 0 book quotations with nothing inside book square brackets with nothing inside and book curly brackets with nothing died and yes you guessed it they're all false. Now functions can also return a boolean value but we're not going to dive into that right now just because we haven't done functions yet let's now have a look at python operators now operators are used above all operations on variables and values for example let's use the plus operator to add together two values we'll say print 10 plus 10 now addition isn't the only operator that you can use you can also have subtraction which is just minus multiplication which is an asterisk modulus which is going to be a percentage symbol. A. Let's now go ahead and have a look at python lists now lists are used to store multiple items in just a single variable lists are one of the four built in data types in python they're used to store collections of data the other three are tuples sets and dictionaries all of these have different qualities and usages lists are created using square brackets let's go ahead and say lists equals to square brackets apple banana oranges in the next line we're going to go. Now list items are ordered they can be changed and they also allow duplicate values items in lists are also indexed the first item has an index of 0 and the second item has an index of 1 when we say that the lists are in order it means that the items will have to have a defined order and that order will not change unless if you do it manually if you add new items to the list the new items will be placed at the end of the list since lists are indexed. We can go back to our list and we're going to add in apple and orange again at the end and when we print this out we get 5 different values to check how many items a list has use the lend function this is really helpful to help you print the number of the items in the list out if we go back to our list on the top we can go ahead and say print lend and the list as you can see here it prints out 5 now inside list you can have any data type whether that be a string an integer or even a boolean value. Let's now have a look at tuples now tuples are used to store multiple items in just a single variable and once again this is one of the four built in data types that's used to store collections of data a tuple is a collection which is ordered however it's unchangeable which is why it differs from list and tuples are also written with round brackets instead of square let's go ahead and say tuple equals to again apple banana and orange when go ahead and print this out we get the expected output. To. Set. Now let's have a look at dictionaries this is the last function for storing sets of data dictionaries are used to store data values and keep them in the same order. To. It prints out exactly what we wrote but in just a single line now the items in this dictionary are ordered from the python 3 7 changeable and they also do not allow any duplicates and as i said earlier dictionary items are also presented in key to value pairs and can be referred to by using the key name to print the brand value of the dictionary we go ahead and say print dictionary and in square brackets we have to give the exact name of the key which is going to be brand as you can see here it prints out forward we can also do this for the model. Now just like it says dictionaries also don't allow any duplicates so if we go ahead and try and say year is 2021 then simply going to ignore the value to have a look at the dictionary length again we can use the length function and for this example here we're going to get 3 let's now have a look at some conditional statements so we're going to go ahead and again say a equals to 100 and a equals to 200 now if a is greater than a then print out a is greater than a else print out a is greater than a. Now if you go ahead and run this it tells us that a is greater than a now python relies on a lot of indentation now indentation is a a space in the beginning of the line so for example we get rid of the indentation in front of print we get an indentation error now in addition to this we can also use the elf keyword the elf keyword is pythons way of saving if the previous conditions were not true then try this one so let's go ahead and change our value of a to 100 as well and we'll say elf a equals a. In this example a is equal to a so the first condition isn't true and hence python goes to the of statement which is true and hence we get the result a and a are equal let's now have a look at while loops now python has two primitive loop commands while loops and for loops with a while loop we can execute a set of statements for as long a condition is true we're gonna go ahead and say i equals to 1 and we're gonna say while a equals to 1 print i. As you can see this is going to go on forever because i is always going to be 1 let's now go ahead and change this loop up a bit and we're going to say that while i is less than 6 print i and also i plus equals to 1 if you don't remember what this does i equals i plus 1 when we run this we get 1 2 3 4 and 5 before the loop stops we can also add in a break statement so we can go ahead and say if i equals to 5 then break as you can see here we only just go up to 4 because the loop breaks as soon as i. If i equals to 5 then just continue we can also use the else statement with while so if we go ahead and get rid of the if i equals to 5 statement then we can change that to say else print i is no longer less than 6 so it's still going to count all the way up to 5 let's now have a look at some for loops now a for loop is used for iterating over a sequence this can either be a list a tuple dictionary a set. Or even a string with the follow we can execute a set of statements one for each item in the list tuple dictionary or even a set so let's go ahead and make our first list we're gonna say fruits equals to apple banana and orange then let's say for a in fruits we're gonna go ahead and print out all the different fruits in a different line even strings are miserable objects they all contain a sequence of characters to loop the letters through the word banana we go ahead and say for a in banana in quotations print a. Print a. And. And. We're going to pass in the argument of name. And put in my name as you can see for the output it prints out my name now when you are calling function you need to call it with the correct number of arguments no more no less or else you will get a type error now python is an object oriented programming language almost everything in python is an object with its own properties and methods a class is like a blueprint for creating objects to create a class we use the keyword class let's go ahead and make our own class so let's say class my class and in there we're going to put in the variable. Now let's go ahead and create an object we're gonna say new equals my class and remember the parentheses let's go ahead and now print out new a and this shouldn't print out the value of the property that's named a but is inside the class so that's how you can make a really basic class in python but now you can go a long way advance in that however for the sake of this tutorial i won't be doing that as it can get quite advanced so that's gonna be it for this video thank you so much for watching. If you did enjoy don't forget to subscribe to my channel as well as the new boston channel and also comment down below if you'd like to see more longer and comprehensive tutorials on python again thanks so much for watching and i'll see you in the next one\""
            ]
          },
          "execution_count": 11,
          "metadata": {},
          "output_type": "execute_result"
        }
      ],
      "source": [
        "from pathlib import Path\n",
        "output_dir = Path(text_output)\n",
        "files = [f for f in output_dir.iterdir() if f.suffix == '.txt']\n",
        "with open(files[0], 'r') as f:\n",
        "    text = f.read()\n",
        "text"
      ]
    },
    {
      "cell_type": "code",
      "execution_count": null,
      "metadata": {
        "colab": {
          "base_uri": "https://localhost:8080/"
        },
        "id": "RmAeSM1-HBcx",
        "outputId": "bc440940-cd68-4d88-c6a0-3a6d371aa357"
      },
      "outputs": [
        {
          "data": {
            "text/plain": [
              "2852"
            ]
          },
          "execution_count": 12,
          "metadata": {},
          "output_type": "execute_result"
        }
      ],
      "source": [
        "len(text.split())"
      ]
    },
    {
      "cell_type": "code",
      "execution_count": null,
      "metadata": {
        "colab": {
          "base_uri": "https://localhost:8080/",
          "height": 36
        },
        "id": "2Sx3esg_68nx",
        "outputId": "a9b7a16a-785a-4f75-cebb-92b575450e36"
      },
      "outputs": [
        {
          "data": {
            "application/vnd.google.colaboratory.intrinsic+json": {
              "type": "string"
            },
            "text/plain": [
              "'/content/data1/v2clntxt_transcriptions/results_SC_pipeline/python_tutorial_in_30_minutes_crash_course_for_absolute_beginners_vid_2_txt_jan_09202310_full_NSC_SBD.txt'"
            ]
          },
          "execution_count": 13,
          "metadata": {},
          "output_type": "execute_result"
        }
      ],
      "source": [
        "outpath = str(files[0])\n",
        "outpath"
      ]
    },
    {
      "cell_type": "code",
      "execution_count": null,
      "metadata": {
        "colab": {
          "base_uri": "https://localhost:8080/",
          "height": 177,
          "referenced_widgets": [
            "0173324618ee408f9fc91f7269e1435e",
            "a4d3b09e31f74ef58ed2635494b9f548",
            "006ea1bac2744531ac0da678c4a495bd",
            "97514565bcba4b088966d6a5dc24f72b",
            "93ec3cb2f573495fbd6a5628e0ca7139",
            "5a803efb24bd49809089b99a6e6c14a4",
            "197219efca454e66a33525e3833e3340",
            "d7f39524db8f474291e96d2dce04e1eb",
            "f48988c4273e4d84bb42ef9d22708494",
            "38556d01666049cc955b7c06f8800506",
            "01db3b13160d47fe97c7afae87f7d41c",
            "cfb852e25c1c476ba0c1ef9456b69f0d",
            "afa546106127487785f899371a3ac7f5",
            "aec991236b3e4824b2f75c75c0bee612",
            "8f7df66050424c30b070eef1a8c7339b",
            "1ef19f5400734095a10b5a33ea1ed587",
            "3f98bfcab65f4090b22e6372f3332fab",
            "a179a16fb68247fa8ddbac9f12bad191",
            "9ecc64bedfcf4601b4be8d3afbdf7223",
            "ce36dc2c07e2443c8d45d77ea13b9b9b",
            "f33f0dfc77544d32b670164b27af531a",
            "b75130de565b49d198714abe2b77d9a9",
            "cb3f17c3459442c394adf35143a8b9c1",
            "3ec14b73cd3f4f8eb034b9e7c1be0f77",
            "4f9e650b776e4e26964a46a315977d19",
            "9ec6b7f663ad4972a4287f2fbf4960ac",
            "743e9191508c40528a298233845784da",
            "a47ed6dfca1b47c38d2d1ca49c3e8aba",
            "a7d8287e4a0c4cf4b6ddc7a2d2206127",
            "995139380cd944a797b36315ac41d8ca",
            "55e6eb0e1de84ff1b354356d6faaa404",
            "c4cb0fb7739049179fc6e8b21ff4a131",
            "d63934fadea74b9b92508fb562253767",
            "16beee88399145b3a295b3aaa03efaa7",
            "4f3d65e7d37d44869e18b06611e3918c",
            "8b79a45b8b6b457d9cca5489d7c777c8",
            "cdee7c262ad4449894ad8c247a97ddc9",
            "a61e7fe8fdf849b89695df11af9655b7",
            "f1b170d24f284760844b77946f354e23",
            "03d3f6662d7c4aa681c11bfc76029ef6",
            "fa0819b181cd417d8ba2c0b1d54176fd",
            "f294b1c7c355497c95b02405908023c9",
            "db08bdba2fac4afb93a1cf7e8d9e3858",
            "afa0f009ae9849fd880d8edb07b6cefc",
            "800c0b2463df4c948b8b3cd36eb4bcda",
            "e91ca8da271b417bac5768a4b72dc98d",
            "d65a008e91e148b7b9b3efbad030592b",
            "294bf69bc94140bf804d126c4e6f6d46",
            "5cce4e3cee7641de975018e56ddaf8b7",
            "b5ea58d407cd49cc93b59c9e447ddfd9",
            "91ca4344a2dc482e948f35b8c70b2334",
            "c1017ef307ce443ea30857d90503e69d",
            "b3d549d2320f46669b213cd0afca3478",
            "03d158b447f44322854d9e32bcd4b986",
            "0017736f94ac43048f462d593e4b77fe"
          ]
        },
        "id": "SJinnjkEOQxP",
        "outputId": "99a1d3d0-11df-494f-f7f3-5021871233c7"
      },
      "outputs": [
        {
          "data": {
            "application/vnd.jupyter.widget-view+json": {
              "model_id": "0173324618ee408f9fc91f7269e1435e",
              "version_major": 2,
              "version_minor": 0
            },
            "text/plain": [
              "Downloading:   0%|          | 0.00/26.0 [00:00<?, ?B/s]"
            ]
          },
          "metadata": {},
          "output_type": "display_data"
        },
        {
          "data": {
            "application/vnd.jupyter.widget-view+json": {
              "model_id": "cfb852e25c1c476ba0c1ef9456b69f0d",
              "version_major": 2,
              "version_minor": 0
            },
            "text/plain": [
              "Downloading:   0%|          | 0.00/1.80k [00:00<?, ?B/s]"
            ]
          },
          "metadata": {},
          "output_type": "display_data"
        },
        {
          "data": {
            "application/vnd.jupyter.widget-view+json": {
              "model_id": "cb3f17c3459442c394adf35143a8b9c1",
              "version_major": 2,
              "version_minor": 0
            },
            "text/plain": [
              "Downloading:   0%|          | 0.00/899k [00:00<?, ?B/s]"
            ]
          },
          "metadata": {},
          "output_type": "display_data"
        },
        {
          "data": {
            "application/vnd.jupyter.widget-view+json": {
              "model_id": "16beee88399145b3a295b3aaa03efaa7",
              "version_major": 2,
              "version_minor": 0
            },
            "text/plain": [
              "Downloading:   0%|          | 0.00/456k [00:00<?, ?B/s]"
            ]
          },
          "metadata": {},
          "output_type": "display_data"
        },
        {
          "data": {
            "application/vnd.jupyter.widget-view+json": {
              "model_id": "800c0b2463df4c948b8b3cd36eb4bcda",
              "version_major": 2,
              "version_minor": 0
            },
            "text/plain": [
              "Downloading:   0%|          | 0.00/1.22G [00:00<?, ?B/s]"
            ]
          },
          "metadata": {},
          "output_type": "display_data"
        }
      ],
      "source": [
        "from transformers import AutoModelForSeq2SeqLM,AutoTokenizer\n",
        "\n",
        "# Load tokenizer \n",
        "tokenizer = AutoTokenizer.from_pretrained(\"sshleifer/distilbart-cnn-12-6\")\n",
        "# Load model \n",
        "model = AutoModelForSeq2SeqLM.from_pretrained(\"sshleifer/distilbart-cnn-12-6\")"
      ]
    },
    {
      "cell_type": "code",
      "execution_count": null,
      "metadata": {
        "colab": {
          "base_uri": "https://localhost:8080/",
          "height": 53
        },
        "id": "JjNPf6L_8fUb",
        "outputId": "cc665efa-2440-402e-e727-fbdcf9ae911a"
      },
      "outputs": [
        {
          "data": {
            "application/vnd.google.colaboratory.intrinsic+json": {
              "type": "string"
            },
            "text/plain": [
              "\"<pad>In this tutorial we're going to be looking at the different types of assigning variables looking at the different data types using numbers operators and changing strings to different values.</s>\""
            ]
          },
          "execution_count": 16,
          "metadata": {},
          "output_type": "execute_result"
        }
      ],
      "source": [
        "tokens = tokenizer(text, truncation=True, padding=\"longest\", return_tensors=\"pt\", max_length=512)\n",
        "#Summarize\n",
        "summary= model.generate(**tokens, max_new_tokens=512)\n",
        "\n",
        "#Decode summary\n",
        "tokenizer.decode(summary[0])"
      ]
    },
    {
      "cell_type": "code",
      "execution_count": null,
      "metadata": {
        "colab": {
          "base_uri": "https://localhost:8080/",
          "height": 53
        },
        "id": "OZ2g02nK9ucD",
        "outputId": "15919b7e-87b5-4e77-f08b-b8a908b7e179"
      },
      "outputs": [
        {
          "data": {
            "application/vnd.google.colaboratory.intrinsic+json": {
              "type": "string"
            },
            "text/plain": [
              "\"In this tutorial we're going to be looking at the different types of assigning variables looking at the different data types using numbers operators and changing strings to different values.\""
            ]
          },
          "execution_count": 17,
          "metadata": {},
          "output_type": "execute_result"
        }
      ],
      "source": [
        "inputs = tokenizer(text, \n",
        "                max_length=512, \n",
        "                truncation=True,\n",
        "                return_tensors=\"pt\")\n",
        "\n",
        "summary_ids = model.generate(inputs[\"input_ids\"], max_new_tokens=512)\n",
        "tokenizer.batch_decode(summary_ids, skip_special_tokens=True, clean_up_tokenization_spaces=False)[0]"
      ]
    },
    {
      "cell_type": "code",
      "execution_count": null,
      "metadata": {
        "id": "kyrr7EaMXe9n"
      },
      "outputs": [],
      "source": [
        "text = \"Hi there and welcome to my python crash course on a new boston channel in this tutorial we'll be looking at the different types of syntax assigning variables looking at the different data types using numbers strings different boolean values operators different kinds of loops functions classes and even objects now if all of the stuff that i've just said made no sense to you then i challenge you to watch till the end of the tutorial and i assure you that by the end you'll have a great understanding of all of these topics. Also as you can probably imagine i put a lot of work and effort into making this tutorial so it'd mean the world to me if you could go ahead and subscribe to my channel it should be the first link in the description thanks so much for that and let's get right into it so let's start off with looking at comments now comments can be used to explain python code and they can also be used to make code more readable now a comment always starts with a hash and python will. And. A. Now changing a type is as simple as making something from an integer to a string or a string to an integer if you want to specify the data type of a variable this can be done with casting so if you go ahead and say a equals a string and in brackets 10 then a will be 10 but in quotations and hence it will print out as a string now we can also go ahead and say a equals to the integer. In addition to that we can also say that a equals to flow in practice 3 all this does is that it adds the decimal place to the end of 3 and hence the result 3 0 let's now have a look at single or double quotes string variables can be declared either by using a single quote or a double let's have a look at what the difference is so if you go ahead and say a equals to coding in double quotes and then we also go ahead and. And say a equals to coding in single quotations the output that we get here is actually going to be the exact same another key thing to take into consideration is the variable names are case sensitive for this one we're going to have a capital a and we're going to assign this value to python and now we're going to have a small a right below it and we're going to assign the value to variables let's now go ahead and print both of these out to see what we get as you can see here we get two different results. Because the capital a will not overwrite the other let's now go ahead and look at data types now there are a lot of different types of built in data types in programming data type is a very important concept variables can store data of different types hence data types some of the data types that are built into python are str or string for text int or integer and flow for numeric types list tuple and range for sequence types as well as book for boolean types. Let's have a look at how you can get the data type so if you don't remember getting a data type can be done by using the type function here i'm going to go ahead and say a equals 5 and i'm going to go ahead and print out type a as you can see it tells us that a is an integer let's now have a look at numbers so there are two main numeric types in python int or integer and float. Variables of numeric types are created when you assign a value to them now let's go ahead and say a equals to 1 and a equals to 2 8 if you go ahead and print out the type for both a and a it tells us that a is an integer and a is a float int or integer is basically a whole number it can be positive or negative but it cannot have any decimals float on the other hand is a floating point number and it can be either positive or negative but it has to contain. Let's now have a look at strings strings in python are surrounded by single quotations or double quotation marks hellions delectation is the same as hello double and you can display a string literal with a print function you can also assign a multilane string to a variable by using 3 quotes as i showed you earlier we can also use 3 quotes for making multilane comments however when it's connected to a variable it's a value. A equals triple quotes and some sample text in multi lines as you can see when we print this out in printer in more than one line now again it doesn't matter if you use three single quotes or three double quotes they both still do output the same result like many other programming languages strings in python are arrays of bytes representing unicode characters however python doesn't actually have a character data type it's simply a string with a length of 1 square brackets can be used to access the elements of a string. So we're gonna go ahead and say a equals to hello world and we're gonna go ahead and print out a but after the a we're gonna add in square brackets and say 1 in the middle now before i print this out try to have a go yourself to see what you get as you can see here it prints out the a that's because the first character actually has a position of 0 and not 1 so if we did the same thing with 0 instead of 1 then it would print out a instead you can also get the length of a string by using the len function to try this out we're gonna carry on with our example with a. In programming you often need to know if an expression is true or false now evaluating any expression in python will get you one of these two answers. So let's go ahead and say print 10 is greater than 9 10 equals to 9 and 10 is smaller than 9 and the result that we get should be in this order true false and false because 10 is greater than 9 however the next two after that are false when in turn run a condition in an if statement python will again return either true or false we're gonna go ahead and say a equals to 100 and a equals to 50 let's also say that if a is. Print book. Any value is evaluated to true if it has some sort of content any string is true except for empty strings and any number is true except for 0 any list tuple or even sets are all true except for the ones that have nothing in them so again we're gonna go ahead and say book and then we're gonna say acc bool123 and book a list of apple cherry and banana now we haven't really looked at the list yet but we'll be looking at that in a second anyways the output here should all be true. In fact there's really not that many values that evaluate to false except for empty values the number 0 and even the value of none and of course the value false also evaluates to false to have a look at all of this let's say book false book none book 0 book quotations with nothing inside book square brackets with nothing inside and book curly brackets with nothing died and yes you guessed it they're all false. Now functions can also return a boolean value but we're not going to dive into that right now just because we haven't done functions yet let's now have a look at python operators now operators are used above all operations on variables and values for example let's use the plus operator to add together two values we'll say print 10 plus 10 now addition isn't the only operator that you can use you can also have subtraction which is just minus multiplication which is an asterisk modulus which is going to be a percentage symbol. A. Let's now go ahead and have a look at python lists now lists are used to store multiple items in just a single variable lists are one of the four built in data types in python they're used to store collections of data the other three are tuples sets and dictionaries all of these have different qualities and usages lists are created using square brackets let's go ahead and say lists equals to square brackets apple banana oranges in the next line we're going to go. Now list items are ordered they can be changed and they also allow duplicate values items in lists are also indexed the first item has an index of 0 and the second item has an index of 1 when we say that the lists are in order it means that the items will have to have a defined order and that order will not change unless if you do it manually if you add new items to the list the new items will be placed at the end of the list since lists are indexed. We can go back to our list and we're going to add in apple and orange again at the end and when we print this out we get 5 different values to check how many items a list has use the lend function this is really helpful to help you print the number of the items in the list out if we go back to our list on the top we can go ahead and say print lend and the list as you can see here it prints out 5 now inside list you can have any data type whether that be a string an integer or even a boolean value. Let's now have a look at tuples now tuples are used to store multiple items in just a single variable and once again this is one of the four built in data types that's used to store collections of data a tuple is a collection which is ordered however it's unchangeable which is why it differs from list and tuples are also written with round brackets instead of square let's go ahead and say tuple equals to again apple banana and orange when go ahead and print this out we get the expected output. To. Set. Now let's have a look at dictionaries this is the last function for storing sets of data dictionaries are used to store data values and keep them in the same order. To. It prints out exactly what we wrote but in just a single line now the items in this dictionary are ordered from the python 3 7 changeable and they also do not allow any duplicates and as i said earlier dictionary items are also presented in key to value pairs and can be referred to by using the key name to print the brand value of the dictionary we go ahead and say print dictionary and in square brackets we have to give the exact name of the key which is going to be brand as you can see here it prints out forward we can also do this for the model. Now just like it says dictionaries also don't allow any duplicates so if we go ahead and try and say year is 2021 then simply going to ignore the value to have a look at the dictionary length again we can use the length function and for this example here we're going to get 3 let's now have a look at some conditional statements so we're going to go ahead and again say a equals to 100 and a equals to 200 now if a is greater than a then print out a is greater than a else print out a is greater than a. Now if you go ahead and run this it tells us that a is greater than a now python relies on a lot of indentation now indentation is a a space in the beginning of the line so for example we get rid of the indentation in front of print we get an indentation error now in addition to this we can also use the elf keyword the elf keyword is pythons way of saving if the previous conditions were not true then try this one so let's go ahead and change our value of a to 100 as well and we'll say elf a equals a. In this example a is equal to a so the first condition isn't true and hence python goes to the of statement which is true and hence we get the result a and a are equal let's now have a look at while loops now python has two primitive loop commands while loops and for loops with a while loop we can execute a set of statements for as long a condition is true we're gonna go ahead and say i equals to 1 and we're gonna say while a equals to 1 print i. As you can see this is going to go on forever because i is always going to be 1 let's now go ahead and change this loop up a bit and we're going to say that while i is less than 6 print i and also i plus equals to 1 if you don't remember what this does i equals i plus 1 when we run this we get 1 2 3 4 and 5 before the loop stops we can also add in a break statement so we can go ahead and say if i equals to 5 then break as you can see here we only just go up to 4 because the loop breaks as soon as i. If i equals to 5 then just continue we can also use the else statement with while so if we go ahead and get rid of the if i equals to 5 statement then we can change that to say else print i is no longer less than 6 so it's still going to count all the way up to 5 let's now have a look at some for loops now a for loop is used for iterating over a sequence this can either be a list a tuple dictionary a set. Or even a string with the follow we can execute a set of statements one for each item in the list tuple dictionary or even a set so let's go ahead and make our first list we're gonna say fruits equals to apple banana and orange then let's say for a in fruits we're gonna go ahead and print out all the different fruits in a different line even strings are miserable objects they all contain a sequence of characters to loop the letters through the word banana we go ahead and say for a in banana in quotations print a. Print a. And. And. We're going to pass in the argument of name. And put in my name as you can see for the output it prints out my name now when you are calling function you need to call it with the correct number of arguments no more no less or else you will get a type error now python is an object oriented programming language almost everything in python is an object with its own properties and methods a class is like a blueprint for creating objects to create a class we use the keyword class let's go ahead and make our own class so let's say class my class and in there we're going to put in the variable. Now let's go ahead and create an object we're gonna say new equals my class and remember the parentheses let's go ahead and now print out new a and this shouldn't print out the value of the property that's named a but is inside the class so that's how you can make a really basic class in python but now you can go a long way advance in that however for the sake of this tutorial i won't be doing that as it can get quite advanced so that's gonna be it for this video thank you so much for watching. If you did enjoy don't forget to subscribe to my channel as well as the new boston channel and also comment down below if you'd like to see more longer and comprehensive tutorials on python again thanks so much for watching and i'll see you in the next one\""
      ]
    },
    {
      "cell_type": "code",
      "execution_count": null,
      "metadata": {
        "colab": {
          "base_uri": "https://localhost:8080/",
          "height": 53
        },
        "id": "Kcb-wHhuPANs",
        "outputId": "4022521a-18ee-4cde-d1ba-26a0fb7a5d4a"
      },
      "outputs": [
        {
          "data": {
            "application/vnd.google.colaboratory.intrinsic+json": {
              "type": "string"
            },
            "text/plain": [
              "\" This tutorial is a python crash course on the new boston channel . We'll be looking at the different types of syntax assigning variables . The tutorial will also look at how you can change the data type of a variable even after the type has been set . By the end you'll have a great understanding of all of these topics [Music]\""
            ]
          },
          "execution_count": 15,
          "metadata": {},
          "output_type": "execute_result"
        }
      ],
      "source": [
        "inputs = tokenizer1(FinalTranscript, \n",
        "                max_length=512, \n",
        "                truncation=True,\n",
        "                return_tensors=\"pt\")\n",
        "\n",
        "summary_ids = model1.generate(inputs[\"input_ids\"], max_new_tokens=512)\n",
        "tokenizer1.batch_decode(summary_ids, skip_special_tokens=True, clean_up_tokenization_spaces=False)[0]"
      ]
    },
    {
      "cell_type": "code",
      "execution_count": null,
      "metadata": {
        "id": "-QK9AOuwPs29"
      },
      "outputs": [],
      "source": [
        "from youtube_transcript_api import YouTubeTranscriptApi\n",
        "\n",
        "link= \"https://www.youtube.com/watch?v=WEm3EUdicDg&t=3s&ab_channel=thenewbostonhttps://www.youtube.com/watch?v=WEm3EUdicDg&t=3s&ab_channel=thenewboston\"\n",
        "video_id = link.split(\"=\")[1]\n",
        "\n",
        "transcript = YouTubeTranscriptApi.get_transcript(video_id)\n",
        "FinalTranscript = ' '.join([i['text'] for i in transcript])"
      ]
    },
    {
      "cell_type": "code",
      "execution_count": null,
      "metadata": {
        "colab": {
          "base_uri": "https://localhost:8080/"
        },
        "id": "ppDOFob4e4Pp",
        "outputId": "bd653fe3-fa6f-4557-98e9-9a45f0c12fad"
      },
      "outputs": [
        {
          "data": {
            "text/plain": [
              "4327"
            ]
          },
          "execution_count": 12,
          "metadata": {},
          "output_type": "execute_result"
        }
      ],
      "source": [
        "len(FinalTranscript.split())"
      ]
    },
    {
      "cell_type": "code",
      "execution_count": null,
      "metadata": {
        "id": "tf5M30JwfNxB"
      },
      "outputs": [],
      "source": []
    }
  ],
  "metadata": {
    "colab": {
      "provenance": []
    },
    "kernelspec": {
      "display_name": "base",
      "language": "python",
      "name": "python3"
    },
    "language_info": {
      "name": "python",
      "version": "3.9.12 (main, Apr  4 2022, 05:22:27) [MSC v.1916 64 bit (AMD64)]"
    },
    "vscode": {
      "interpreter": {
        "hash": "327958b19781b0c869d788a5162e84c090433f2765a7e362f8a73cb835d6aa0b"
      }
    },
    "widgets": {
      "application/vnd.jupyter.widget-state+json": {
        "0017736f94ac43048f462d593e4b77fe": {
          "model_module": "@jupyter-widgets/controls",
          "model_module_version": "1.5.0",
          "model_name": "DescriptionStyleModel",
          "state": {
            "_model_module": "@jupyter-widgets/controls",
            "_model_module_version": "1.5.0",
            "_model_name": "DescriptionStyleModel",
            "_view_count": null,
            "_view_module": "@jupyter-widgets/base",
            "_view_module_version": "1.2.0",
            "_view_name": "StyleView",
            "description_width": ""
          }
        },
        "006ea1bac2744531ac0da678c4a495bd": {
          "model_module": "@jupyter-widgets/controls",
          "model_module_version": "1.5.0",
          "model_name": "FloatProgressModel",
          "state": {
            "_dom_classes": [],
            "_model_module": "@jupyter-widgets/controls",
            "_model_module_version": "1.5.0",
            "_model_name": "FloatProgressModel",
            "_view_count": null,
            "_view_module": "@jupyter-widgets/controls",
            "_view_module_version": "1.5.0",
            "_view_name": "ProgressView",
            "bar_style": "success",
            "description": "",
            "description_tooltip": null,
            "layout": "IPY_MODEL_d7f39524db8f474291e96d2dce04e1eb",
            "max": 26,
            "min": 0,
            "orientation": "horizontal",
            "style": "IPY_MODEL_f48988c4273e4d84bb42ef9d22708494",
            "value": 26
          }
        },
        "0173324618ee408f9fc91f7269e1435e": {
          "model_module": "@jupyter-widgets/controls",
          "model_module_version": "1.5.0",
          "model_name": "HBoxModel",
          "state": {
            "_dom_classes": [],
            "_model_module": "@jupyter-widgets/controls",
            "_model_module_version": "1.5.0",
            "_model_name": "HBoxModel",
            "_view_count": null,
            "_view_module": "@jupyter-widgets/controls",
            "_view_module_version": "1.5.0",
            "_view_name": "HBoxView",
            "box_style": "",
            "children": [
              "IPY_MODEL_a4d3b09e31f74ef58ed2635494b9f548",
              "IPY_MODEL_006ea1bac2744531ac0da678c4a495bd",
              "IPY_MODEL_97514565bcba4b088966d6a5dc24f72b"
            ],
            "layout": "IPY_MODEL_93ec3cb2f573495fbd6a5628e0ca7139"
          }
        },
        "01db3b13160d47fe97c7afae87f7d41c": {
          "model_module": "@jupyter-widgets/controls",
          "model_module_version": "1.5.0",
          "model_name": "DescriptionStyleModel",
          "state": {
            "_model_module": "@jupyter-widgets/controls",
            "_model_module_version": "1.5.0",
            "_model_name": "DescriptionStyleModel",
            "_view_count": null,
            "_view_module": "@jupyter-widgets/base",
            "_view_module_version": "1.2.0",
            "_view_name": "StyleView",
            "description_width": ""
          }
        },
        "03d158b447f44322854d9e32bcd4b986": {
          "model_module": "@jupyter-widgets/base",
          "model_module_version": "1.2.0",
          "model_name": "LayoutModel",
          "state": {
            "_model_module": "@jupyter-widgets/base",
            "_model_module_version": "1.2.0",
            "_model_name": "LayoutModel",
            "_view_count": null,
            "_view_module": "@jupyter-widgets/base",
            "_view_module_version": "1.2.0",
            "_view_name": "LayoutView",
            "align_content": null,
            "align_items": null,
            "align_self": null,
            "border": null,
            "bottom": null,
            "display": null,
            "flex": null,
            "flex_flow": null,
            "grid_area": null,
            "grid_auto_columns": null,
            "grid_auto_flow": null,
            "grid_auto_rows": null,
            "grid_column": null,
            "grid_gap": null,
            "grid_row": null,
            "grid_template_areas": null,
            "grid_template_columns": null,
            "grid_template_rows": null,
            "height": null,
            "justify_content": null,
            "justify_items": null,
            "left": null,
            "margin": null,
            "max_height": null,
            "max_width": null,
            "min_height": null,
            "min_width": null,
            "object_fit": null,
            "object_position": null,
            "order": null,
            "overflow": null,
            "overflow_x": null,
            "overflow_y": null,
            "padding": null,
            "right": null,
            "top": null,
            "visibility": null,
            "width": null
          }
        },
        "03d3f6662d7c4aa681c11bfc76029ef6": {
          "model_module": "@jupyter-widgets/controls",
          "model_module_version": "1.5.0",
          "model_name": "DescriptionStyleModel",
          "state": {
            "_model_module": "@jupyter-widgets/controls",
            "_model_module_version": "1.5.0",
            "_model_name": "DescriptionStyleModel",
            "_view_count": null,
            "_view_module": "@jupyter-widgets/base",
            "_view_module_version": "1.2.0",
            "_view_name": "StyleView",
            "description_width": ""
          }
        },
        "08c94e95a9fe40b2bf4d12f4735b65a9": {
          "model_module": "@jupyter-widgets/base",
          "model_module_version": "1.2.0",
          "model_name": "LayoutModel",
          "state": {
            "_model_module": "@jupyter-widgets/base",
            "_model_module_version": "1.2.0",
            "_model_name": "LayoutModel",
            "_view_count": null,
            "_view_module": "@jupyter-widgets/base",
            "_view_module_version": "1.2.0",
            "_view_name": "LayoutView",
            "align_content": null,
            "align_items": null,
            "align_self": null,
            "border": null,
            "bottom": null,
            "display": null,
            "flex": null,
            "flex_flow": null,
            "grid_area": null,
            "grid_auto_columns": null,
            "grid_auto_flow": null,
            "grid_auto_rows": null,
            "grid_column": null,
            "grid_gap": null,
            "grid_row": null,
            "grid_template_areas": null,
            "grid_template_columns": null,
            "grid_template_rows": null,
            "height": null,
            "justify_content": null,
            "justify_items": null,
            "left": null,
            "margin": null,
            "max_height": null,
            "max_width": null,
            "min_height": null,
            "min_width": null,
            "object_fit": null,
            "object_position": null,
            "order": null,
            "overflow": null,
            "overflow_x": null,
            "overflow_y": null,
            "padding": null,
            "right": null,
            "top": null,
            "visibility": null,
            "width": null
          }
        },
        "090defc0634e4b218f296b7b6aca77e5": {
          "model_module": "@jupyter-widgets/controls",
          "model_module_version": "1.5.0",
          "model_name": "FloatProgressModel",
          "state": {
            "_dom_classes": [],
            "_model_module": "@jupyter-widgets/controls",
            "_model_module_version": "1.5.0",
            "_model_name": "FloatProgressModel",
            "_view_count": null,
            "_view_module": "@jupyter-widgets/controls",
            "_view_module_version": "1.5.0",
            "_view_name": "ProgressView",
            "bar_style": "success",
            "description": "",
            "description_tooltip": null,
            "layout": "IPY_MODEL_103e3aeee87c4b069fe4f5272ae31e9a",
            "max": 42,
            "min": 0,
            "orientation": "horizontal",
            "style": "IPY_MODEL_8ec04918fff147c1b556a0a4a9f3ea85",
            "value": 42
          }
        },
        "103e3aeee87c4b069fe4f5272ae31e9a": {
          "model_module": "@jupyter-widgets/base",
          "model_module_version": "1.2.0",
          "model_name": "LayoutModel",
          "state": {
            "_model_module": "@jupyter-widgets/base",
            "_model_module_version": "1.2.0",
            "_model_name": "LayoutModel",
            "_view_count": null,
            "_view_module": "@jupyter-widgets/base",
            "_view_module_version": "1.2.0",
            "_view_name": "LayoutView",
            "align_content": null,
            "align_items": null,
            "align_self": null,
            "border": null,
            "bottom": null,
            "display": null,
            "flex": null,
            "flex_flow": null,
            "grid_area": null,
            "grid_auto_columns": null,
            "grid_auto_flow": null,
            "grid_auto_rows": null,
            "grid_column": null,
            "grid_gap": null,
            "grid_row": null,
            "grid_template_areas": null,
            "grid_template_columns": null,
            "grid_template_rows": null,
            "height": null,
            "justify_content": null,
            "justify_items": null,
            "left": null,
            "margin": null,
            "max_height": null,
            "max_width": null,
            "min_height": null,
            "min_width": null,
            "object_fit": null,
            "object_position": null,
            "order": null,
            "overflow": null,
            "overflow_x": null,
            "overflow_y": null,
            "padding": null,
            "right": null,
            "top": null,
            "visibility": null,
            "width": null
          }
        },
        "12ee852272c14af396c1ae286dbd0ecb": {
          "model_module": "@jupyter-widgets/controls",
          "model_module_version": "1.5.0",
          "model_name": "HTMLModel",
          "state": {
            "_dom_classes": [],
            "_model_module": "@jupyter-widgets/controls",
            "_model_module_version": "1.5.0",
            "_model_name": "HTMLModel",
            "_view_count": null,
            "_view_module": "@jupyter-widgets/controls",
            "_view_module_version": "1.5.0",
            "_view_name": "HTMLView",
            "description": "",
            "description_tooltip": null,
            "layout": "IPY_MODEL_a9e7898b5d334eb3b7f28d163be89763",
            "placeholder": "​",
            "style": "IPY_MODEL_6ffdf52d8dd747f38c16ec9065bde446",
            "value": "SC_pipeline - transcribed audio: 100%"
          }
        },
        "16beee88399145b3a295b3aaa03efaa7": {
          "model_module": "@jupyter-widgets/controls",
          "model_module_version": "1.5.0",
          "model_name": "HBoxModel",
          "state": {
            "_dom_classes": [],
            "_model_module": "@jupyter-widgets/controls",
            "_model_module_version": "1.5.0",
            "_model_name": "HBoxModel",
            "_view_count": null,
            "_view_module": "@jupyter-widgets/controls",
            "_view_module_version": "1.5.0",
            "_view_name": "HBoxView",
            "box_style": "",
            "children": [
              "IPY_MODEL_4f3d65e7d37d44869e18b06611e3918c",
              "IPY_MODEL_8b79a45b8b6b457d9cca5489d7c777c8",
              "IPY_MODEL_cdee7c262ad4449894ad8c247a97ddc9"
            ],
            "layout": "IPY_MODEL_a61e7fe8fdf849b89695df11af9655b7"
          }
        },
        "18a47b4907874d50a8d2075fea4a1b2d": {
          "model_module": "@jupyter-widgets/controls",
          "model_module_version": "1.5.0",
          "model_name": "DescriptionStyleModel",
          "state": {
            "_model_module": "@jupyter-widgets/controls",
            "_model_module_version": "1.5.0",
            "_model_name": "DescriptionStyleModel",
            "_view_count": null,
            "_view_module": "@jupyter-widgets/base",
            "_view_module_version": "1.2.0",
            "_view_name": "StyleView",
            "description_width": ""
          }
        },
        "18c468a36059410ebdd491842c768275": {
          "model_module": "@jupyter-widgets/base",
          "model_module_version": "1.2.0",
          "model_name": "LayoutModel",
          "state": {
            "_model_module": "@jupyter-widgets/base",
            "_model_module_version": "1.2.0",
            "_model_name": "LayoutModel",
            "_view_count": null,
            "_view_module": "@jupyter-widgets/base",
            "_view_module_version": "1.2.0",
            "_view_name": "LayoutView",
            "align_content": null,
            "align_items": null,
            "align_self": null,
            "border": null,
            "bottom": null,
            "display": null,
            "flex": null,
            "flex_flow": null,
            "grid_area": null,
            "grid_auto_columns": null,
            "grid_auto_flow": null,
            "grid_auto_rows": null,
            "grid_column": null,
            "grid_gap": null,
            "grid_row": null,
            "grid_template_areas": null,
            "grid_template_columns": null,
            "grid_template_rows": null,
            "height": null,
            "justify_content": null,
            "justify_items": null,
            "left": null,
            "margin": null,
            "max_height": null,
            "max_width": null,
            "min_height": null,
            "min_width": null,
            "object_fit": null,
            "object_position": null,
            "order": null,
            "overflow": null,
            "overflow_x": null,
            "overflow_y": null,
            "padding": null,
            "right": null,
            "top": null,
            "visibility": null,
            "width": null
          }
        },
        "197219efca454e66a33525e3833e3340": {
          "model_module": "@jupyter-widgets/controls",
          "model_module_version": "1.5.0",
          "model_name": "DescriptionStyleModel",
          "state": {
            "_model_module": "@jupyter-widgets/controls",
            "_model_module_version": "1.5.0",
            "_model_name": "DescriptionStyleModel",
            "_view_count": null,
            "_view_module": "@jupyter-widgets/base",
            "_view_module_version": "1.2.0",
            "_view_name": "StyleView",
            "description_width": ""
          }
        },
        "1d97048fc10c48cc8eb5a8d005cad0de": {
          "model_module": "@jupyter-widgets/controls",
          "model_module_version": "1.5.0",
          "model_name": "HTMLModel",
          "state": {
            "_dom_classes": [],
            "_model_module": "@jupyter-widgets/controls",
            "_model_module_version": "1.5.0",
            "_model_name": "HTMLModel",
            "_view_count": null,
            "_view_module": "@jupyter-widgets/controls",
            "_view_module_version": "1.5.0",
            "_view_name": "HTMLView",
            "description": "",
            "description_tooltip": null,
            "layout": "IPY_MODEL_5497228e5e924ee8a073f926d9452ffc",
            "placeholder": "​",
            "style": "IPY_MODEL_503a239fe183432e9b3b4568df002214",
            "value": " 1/1 [11:19&lt;00:00, 679.47s/it]"
          }
        },
        "1ef19f5400734095a10b5a33ea1ed587": {
          "model_module": "@jupyter-widgets/base",
          "model_module_version": "1.2.0",
          "model_name": "LayoutModel",
          "state": {
            "_model_module": "@jupyter-widgets/base",
            "_model_module_version": "1.2.0",
            "_model_name": "LayoutModel",
            "_view_count": null,
            "_view_module": "@jupyter-widgets/base",
            "_view_module_version": "1.2.0",
            "_view_name": "LayoutView",
            "align_content": null,
            "align_items": null,
            "align_self": null,
            "border": null,
            "bottom": null,
            "display": null,
            "flex": null,
            "flex_flow": null,
            "grid_area": null,
            "grid_auto_columns": null,
            "grid_auto_flow": null,
            "grid_auto_rows": null,
            "grid_column": null,
            "grid_gap": null,
            "grid_row": null,
            "grid_template_areas": null,
            "grid_template_columns": null,
            "grid_template_rows": null,
            "height": null,
            "justify_content": null,
            "justify_items": null,
            "left": null,
            "margin": null,
            "max_height": null,
            "max_width": null,
            "min_height": null,
            "min_width": null,
            "object_fit": null,
            "object_position": null,
            "order": null,
            "overflow": null,
            "overflow_x": null,
            "overflow_y": null,
            "padding": null,
            "right": null,
            "top": null,
            "visibility": null,
            "width": null
          }
        },
        "2645906c312249869a9ee1e993676d79": {
          "model_module": "@jupyter-widgets/controls",
          "model_module_version": "1.5.0",
          "model_name": "DescriptionStyleModel",
          "state": {
            "_model_module": "@jupyter-widgets/controls",
            "_model_module_version": "1.5.0",
            "_model_name": "DescriptionStyleModel",
            "_view_count": null,
            "_view_module": "@jupyter-widgets/base",
            "_view_module_version": "1.2.0",
            "_view_name": "StyleView",
            "description_width": ""
          }
        },
        "294bf69bc94140bf804d126c4e6f6d46": {
          "model_module": "@jupyter-widgets/controls",
          "model_module_version": "1.5.0",
          "model_name": "HTMLModel",
          "state": {
            "_dom_classes": [],
            "_model_module": "@jupyter-widgets/controls",
            "_model_module_version": "1.5.0",
            "_model_name": "HTMLModel",
            "_view_count": null,
            "_view_module": "@jupyter-widgets/controls",
            "_view_module_version": "1.5.0",
            "_view_name": "HTMLView",
            "description": "",
            "description_tooltip": null,
            "layout": "IPY_MODEL_03d158b447f44322854d9e32bcd4b986",
            "placeholder": "​",
            "style": "IPY_MODEL_0017736f94ac43048f462d593e4b77fe",
            "value": " 1.22G/1.22G [00:22&lt;00:00, 55.1MB/s]"
          }
        },
        "2a529709cf1e48c2816945211b36ca5b": {
          "model_module": "@jupyter-widgets/controls",
          "model_module_version": "1.5.0",
          "model_name": "FloatProgressModel",
          "state": {
            "_dom_classes": [],
            "_model_module": "@jupyter-widgets/controls",
            "_model_module_version": "1.5.0",
            "_model_name": "FloatProgressModel",
            "_view_count": null,
            "_view_module": "@jupyter-widgets/controls",
            "_view_module_version": "1.5.0",
            "_view_name": "ProgressView",
            "bar_style": "success",
            "description": "",
            "description_tooltip": null,
            "layout": "IPY_MODEL_fa126a42c9bc4df4adbb39436b97187d",
            "max": 42,
            "min": 0,
            "orientation": "horizontal",
            "style": "IPY_MODEL_cab47d6aaec5401e9be42c4d05c0b4d5",
            "value": 42
          }
        },
        "2e5b2a5751a24924b8ac2e954314ee31": {
          "model_module": "@jupyter-widgets/controls",
          "model_module_version": "1.5.0",
          "model_name": "HTMLModel",
          "state": {
            "_dom_classes": [],
            "_model_module": "@jupyter-widgets/controls",
            "_model_module_version": "1.5.0",
            "_model_name": "HTMLModel",
            "_view_count": null,
            "_view_module": "@jupyter-widgets/controls",
            "_view_module_version": "1.5.0",
            "_view_name": "HTMLView",
            "description": "",
            "description_tooltip": null,
            "layout": "IPY_MODEL_9c347cdde55d4842a6acb1f468798c82",
            "placeholder": "​",
            "style": "IPY_MODEL_b213226689d3452bbce84de64471816d",
            "value": " 42/42 [11:12&lt;00:00, 14.93s/it]"
          }
        },
        "335af7028a0b4cc6be980dac4cd5b889": {
          "model_module": "@jupyter-widgets/controls",
          "model_module_version": "1.5.0",
          "model_name": "DescriptionStyleModel",
          "state": {
            "_model_module": "@jupyter-widgets/controls",
            "_model_module_version": "1.5.0",
            "_model_name": "DescriptionStyleModel",
            "_view_count": null,
            "_view_module": "@jupyter-widgets/base",
            "_view_module_version": "1.2.0",
            "_view_name": "StyleView",
            "description_width": ""
          }
        },
        "38556d01666049cc955b7c06f8800506": {
          "model_module": "@jupyter-widgets/base",
          "model_module_version": "1.2.0",
          "model_name": "LayoutModel",
          "state": {
            "_model_module": "@jupyter-widgets/base",
            "_model_module_version": "1.2.0",
            "_model_name": "LayoutModel",
            "_view_count": null,
            "_view_module": "@jupyter-widgets/base",
            "_view_module_version": "1.2.0",
            "_view_name": "LayoutView",
            "align_content": null,
            "align_items": null,
            "align_self": null,
            "border": null,
            "bottom": null,
            "display": null,
            "flex": null,
            "flex_flow": null,
            "grid_area": null,
            "grid_auto_columns": null,
            "grid_auto_flow": null,
            "grid_auto_rows": null,
            "grid_column": null,
            "grid_gap": null,
            "grid_row": null,
            "grid_template_areas": null,
            "grid_template_columns": null,
            "grid_template_rows": null,
            "height": null,
            "justify_content": null,
            "justify_items": null,
            "left": null,
            "margin": null,
            "max_height": null,
            "max_width": null,
            "min_height": null,
            "min_width": null,
            "object_fit": null,
            "object_position": null,
            "order": null,
            "overflow": null,
            "overflow_x": null,
            "overflow_y": null,
            "padding": null,
            "right": null,
            "top": null,
            "visibility": null,
            "width": null
          }
        },
        "39489d38177741a580d43158a617e4b2": {
          "model_module": "@jupyter-widgets/controls",
          "model_module_version": "1.5.0",
          "model_name": "HTMLModel",
          "state": {
            "_dom_classes": [],
            "_model_module": "@jupyter-widgets/controls",
            "_model_module_version": "1.5.0",
            "_model_name": "HTMLModel",
            "_view_count": null,
            "_view_module": "@jupyter-widgets/controls",
            "_view_module_version": "1.5.0",
            "_view_name": "HTMLView",
            "description": "",
            "description_tooltip": null,
            "layout": "IPY_MODEL_4a9bbefce76d4ea4939f1bc153b6fabe",
            "placeholder": "​",
            "style": "IPY_MODEL_83f1a66e47e94b18a116b1fc96377cb4",
            "value": "Creating .wav audio clips: 100%"
          }
        },
        "3ec14b73cd3f4f8eb034b9e7c1be0f77": {
          "model_module": "@jupyter-widgets/controls",
          "model_module_version": "1.5.0",
          "model_name": "HTMLModel",
          "state": {
            "_dom_classes": [],
            "_model_module": "@jupyter-widgets/controls",
            "_model_module_version": "1.5.0",
            "_model_name": "HTMLModel",
            "_view_count": null,
            "_view_module": "@jupyter-widgets/controls",
            "_view_module_version": "1.5.0",
            "_view_name": "HTMLView",
            "description": "",
            "description_tooltip": null,
            "layout": "IPY_MODEL_a47ed6dfca1b47c38d2d1ca49c3e8aba",
            "placeholder": "​",
            "style": "IPY_MODEL_a7d8287e4a0c4cf4b6ddc7a2d2206127",
            "value": "Downloading: 100%"
          }
        },
        "3f98bfcab65f4090b22e6372f3332fab": {
          "model_module": "@jupyter-widgets/base",
          "model_module_version": "1.2.0",
          "model_name": "LayoutModel",
          "state": {
            "_model_module": "@jupyter-widgets/base",
            "_model_module_version": "1.2.0",
            "_model_name": "LayoutModel",
            "_view_count": null,
            "_view_module": "@jupyter-widgets/base",
            "_view_module_version": "1.2.0",
            "_view_name": "LayoutView",
            "align_content": null,
            "align_items": null,
            "align_self": null,
            "border": null,
            "bottom": null,
            "display": null,
            "flex": null,
            "flex_flow": null,
            "grid_area": null,
            "grid_auto_columns": null,
            "grid_auto_flow": null,
            "grid_auto_rows": null,
            "grid_column": null,
            "grid_gap": null,
            "grid_row": null,
            "grid_template_areas": null,
            "grid_template_columns": null,
            "grid_template_rows": null,
            "height": null,
            "justify_content": null,
            "justify_items": null,
            "left": null,
            "margin": null,
            "max_height": null,
            "max_width": null,
            "min_height": null,
            "min_width": null,
            "object_fit": null,
            "object_position": null,
            "order": null,
            "overflow": null,
            "overflow_x": null,
            "overflow_y": null,
            "padding": null,
            "right": null,
            "top": null,
            "visibility": null,
            "width": null
          }
        },
        "4a48c35885144c87841484ddbfbfd6a0": {
          "model_module": "@jupyter-widgets/base",
          "model_module_version": "1.2.0",
          "model_name": "LayoutModel",
          "state": {
            "_model_module": "@jupyter-widgets/base",
            "_model_module_version": "1.2.0",
            "_model_name": "LayoutModel",
            "_view_count": null,
            "_view_module": "@jupyter-widgets/base",
            "_view_module_version": "1.2.0",
            "_view_name": "LayoutView",
            "align_content": null,
            "align_items": null,
            "align_self": null,
            "border": null,
            "bottom": null,
            "display": null,
            "flex": null,
            "flex_flow": null,
            "grid_area": null,
            "grid_auto_columns": null,
            "grid_auto_flow": null,
            "grid_auto_rows": null,
            "grid_column": null,
            "grid_gap": null,
            "grid_row": null,
            "grid_template_areas": null,
            "grid_template_columns": null,
            "grid_template_rows": null,
            "height": null,
            "justify_content": null,
            "justify_items": null,
            "left": null,
            "margin": null,
            "max_height": null,
            "max_width": null,
            "min_height": null,
            "min_width": null,
            "object_fit": null,
            "object_position": null,
            "order": null,
            "overflow": null,
            "overflow_x": null,
            "overflow_y": null,
            "padding": null,
            "right": null,
            "top": null,
            "visibility": null,
            "width": null
          }
        },
        "4a9bbefce76d4ea4939f1bc153b6fabe": {
          "model_module": "@jupyter-widgets/base",
          "model_module_version": "1.2.0",
          "model_name": "LayoutModel",
          "state": {
            "_model_module": "@jupyter-widgets/base",
            "_model_module_version": "1.2.0",
            "_model_name": "LayoutModel",
            "_view_count": null,
            "_view_module": "@jupyter-widgets/base",
            "_view_module_version": "1.2.0",
            "_view_name": "LayoutView",
            "align_content": null,
            "align_items": null,
            "align_self": null,
            "border": null,
            "bottom": null,
            "display": null,
            "flex": null,
            "flex_flow": null,
            "grid_area": null,
            "grid_auto_columns": null,
            "grid_auto_flow": null,
            "grid_auto_rows": null,
            "grid_column": null,
            "grid_gap": null,
            "grid_row": null,
            "grid_template_areas": null,
            "grid_template_columns": null,
            "grid_template_rows": null,
            "height": null,
            "justify_content": null,
            "justify_items": null,
            "left": null,
            "margin": null,
            "max_height": null,
            "max_width": null,
            "min_height": null,
            "min_width": null,
            "object_fit": null,
            "object_position": null,
            "order": null,
            "overflow": null,
            "overflow_x": null,
            "overflow_y": null,
            "padding": null,
            "right": null,
            "top": null,
            "visibility": null,
            "width": null
          }
        },
        "4c26a5ddce8643f787fa1434bda9b365": {
          "model_module": "@jupyter-widgets/controls",
          "model_module_version": "1.5.0",
          "model_name": "HTMLModel",
          "state": {
            "_dom_classes": [],
            "_model_module": "@jupyter-widgets/controls",
            "_model_module_version": "1.5.0",
            "_model_name": "HTMLModel",
            "_view_count": null,
            "_view_module": "@jupyter-widgets/controls",
            "_view_module_version": "1.5.0",
            "_view_name": "HTMLView",
            "description": "",
            "description_tooltip": null,
            "layout": "IPY_MODEL_76fd67056c694e87999286a5efbca8c2",
            "placeholder": "​",
            "style": "IPY_MODEL_f2aade17b2494b0da5c93d02e1f5e866",
            "value": " 2/2 [00:06&lt;00:00,  3.12s/it]"
          }
        },
        "4e636a89f83c427a957e1b0455a5edb0": {
          "model_module": "@jupyter-widgets/controls",
          "model_module_version": "1.5.0",
          "model_name": "HTMLModel",
          "state": {
            "_dom_classes": [],
            "_model_module": "@jupyter-widgets/controls",
            "_model_module_version": "1.5.0",
            "_model_name": "HTMLModel",
            "_view_count": null,
            "_view_module": "@jupyter-widgets/controls",
            "_view_module_version": "1.5.0",
            "_view_name": "HTMLView",
            "description": "",
            "description_tooltip": null,
            "layout": "IPY_MODEL_08c94e95a9fe40b2bf4d12f4735b65a9",
            "placeholder": "​",
            "style": "IPY_MODEL_18a47b4907874d50a8d2075fea4a1b2d",
            "value": "Transcribing video: 100%"
          }
        },
        "4f3d65e7d37d44869e18b06611e3918c": {
          "model_module": "@jupyter-widgets/controls",
          "model_module_version": "1.5.0",
          "model_name": "HTMLModel",
          "state": {
            "_dom_classes": [],
            "_model_module": "@jupyter-widgets/controls",
            "_model_module_version": "1.5.0",
            "_model_name": "HTMLModel",
            "_view_count": null,
            "_view_module": "@jupyter-widgets/controls",
            "_view_module_version": "1.5.0",
            "_view_name": "HTMLView",
            "description": "",
            "description_tooltip": null,
            "layout": "IPY_MODEL_f1b170d24f284760844b77946f354e23",
            "placeholder": "​",
            "style": "IPY_MODEL_03d3f6662d7c4aa681c11bfc76029ef6",
            "value": "Downloading: 100%"
          }
        },
        "4f9e650b776e4e26964a46a315977d19": {
          "model_module": "@jupyter-widgets/controls",
          "model_module_version": "1.5.0",
          "model_name": "FloatProgressModel",
          "state": {
            "_dom_classes": [],
            "_model_module": "@jupyter-widgets/controls",
            "_model_module_version": "1.5.0",
            "_model_name": "FloatProgressModel",
            "_view_count": null,
            "_view_module": "@jupyter-widgets/controls",
            "_view_module_version": "1.5.0",
            "_view_name": "ProgressView",
            "bar_style": "success",
            "description": "",
            "description_tooltip": null,
            "layout": "IPY_MODEL_995139380cd944a797b36315ac41d8ca",
            "max": 898822,
            "min": 0,
            "orientation": "horizontal",
            "style": "IPY_MODEL_55e6eb0e1de84ff1b354356d6faaa404",
            "value": 898822
          }
        },
        "503a239fe183432e9b3b4568df002214": {
          "model_module": "@jupyter-widgets/controls",
          "model_module_version": "1.5.0",
          "model_name": "DescriptionStyleModel",
          "state": {
            "_model_module": "@jupyter-widgets/controls",
            "_model_module_version": "1.5.0",
            "_model_name": "DescriptionStyleModel",
            "_view_count": null,
            "_view_module": "@jupyter-widgets/base",
            "_view_module_version": "1.2.0",
            "_view_name": "StyleView",
            "description_width": ""
          }
        },
        "5497228e5e924ee8a073f926d9452ffc": {
          "model_module": "@jupyter-widgets/base",
          "model_module_version": "1.2.0",
          "model_name": "LayoutModel",
          "state": {
            "_model_module": "@jupyter-widgets/base",
            "_model_module_version": "1.2.0",
            "_model_name": "LayoutModel",
            "_view_count": null,
            "_view_module": "@jupyter-widgets/base",
            "_view_module_version": "1.2.0",
            "_view_name": "LayoutView",
            "align_content": null,
            "align_items": null,
            "align_self": null,
            "border": null,
            "bottom": null,
            "display": null,
            "flex": null,
            "flex_flow": null,
            "grid_area": null,
            "grid_auto_columns": null,
            "grid_auto_flow": null,
            "grid_auto_rows": null,
            "grid_column": null,
            "grid_gap": null,
            "grid_row": null,
            "grid_template_areas": null,
            "grid_template_columns": null,
            "grid_template_rows": null,
            "height": null,
            "justify_content": null,
            "justify_items": null,
            "left": null,
            "margin": null,
            "max_height": null,
            "max_width": null,
            "min_height": null,
            "min_width": null,
            "object_fit": null,
            "object_position": null,
            "order": null,
            "overflow": null,
            "overflow_x": null,
            "overflow_y": null,
            "padding": null,
            "right": null,
            "top": null,
            "visibility": null,
            "width": null
          }
        },
        "55e6eb0e1de84ff1b354356d6faaa404": {
          "model_module": "@jupyter-widgets/controls",
          "model_module_version": "1.5.0",
          "model_name": "ProgressStyleModel",
          "state": {
            "_model_module": "@jupyter-widgets/controls",
            "_model_module_version": "1.5.0",
            "_model_name": "ProgressStyleModel",
            "_view_count": null,
            "_view_module": "@jupyter-widgets/base",
            "_view_module_version": "1.2.0",
            "_view_name": "StyleView",
            "bar_color": null,
            "description_width": ""
          }
        },
        "5a803efb24bd49809089b99a6e6c14a4": {
          "model_module": "@jupyter-widgets/base",
          "model_module_version": "1.2.0",
          "model_name": "LayoutModel",
          "state": {
            "_model_module": "@jupyter-widgets/base",
            "_model_module_version": "1.2.0",
            "_model_name": "LayoutModel",
            "_view_count": null,
            "_view_module": "@jupyter-widgets/base",
            "_view_module_version": "1.2.0",
            "_view_name": "LayoutView",
            "align_content": null,
            "align_items": null,
            "align_self": null,
            "border": null,
            "bottom": null,
            "display": null,
            "flex": null,
            "flex_flow": null,
            "grid_area": null,
            "grid_auto_columns": null,
            "grid_auto_flow": null,
            "grid_auto_rows": null,
            "grid_column": null,
            "grid_gap": null,
            "grid_row": null,
            "grid_template_areas": null,
            "grid_template_columns": null,
            "grid_template_rows": null,
            "height": null,
            "justify_content": null,
            "justify_items": null,
            "left": null,
            "margin": null,
            "max_height": null,
            "max_width": null,
            "min_height": null,
            "min_width": null,
            "object_fit": null,
            "object_position": null,
            "order": null,
            "overflow": null,
            "overflow_x": null,
            "overflow_y": null,
            "padding": null,
            "right": null,
            "top": null,
            "visibility": null,
            "width": null
          }
        },
        "5cce4e3cee7641de975018e56ddaf8b7": {
          "model_module": "@jupyter-widgets/base",
          "model_module_version": "1.2.0",
          "model_name": "LayoutModel",
          "state": {
            "_model_module": "@jupyter-widgets/base",
            "_model_module_version": "1.2.0",
            "_model_name": "LayoutModel",
            "_view_count": null,
            "_view_module": "@jupyter-widgets/base",
            "_view_module_version": "1.2.0",
            "_view_name": "LayoutView",
            "align_content": null,
            "align_items": null,
            "align_self": null,
            "border": null,
            "bottom": null,
            "display": null,
            "flex": null,
            "flex_flow": null,
            "grid_area": null,
            "grid_auto_columns": null,
            "grid_auto_flow": null,
            "grid_auto_rows": null,
            "grid_column": null,
            "grid_gap": null,
            "grid_row": null,
            "grid_template_areas": null,
            "grid_template_columns": null,
            "grid_template_rows": null,
            "height": null,
            "justify_content": null,
            "justify_items": null,
            "left": null,
            "margin": null,
            "max_height": null,
            "max_width": null,
            "min_height": null,
            "min_width": null,
            "object_fit": null,
            "object_position": null,
            "order": null,
            "overflow": null,
            "overflow_x": null,
            "overflow_y": null,
            "padding": null,
            "right": null,
            "top": null,
            "visibility": null,
            "width": null
          }
        },
        "64de9d7ebb6746308536c2a981f10fe8": {
          "model_module": "@jupyter-widgets/controls",
          "model_module_version": "1.5.0",
          "model_name": "ProgressStyleModel",
          "state": {
            "_model_module": "@jupyter-widgets/controls",
            "_model_module_version": "1.5.0",
            "_model_name": "ProgressStyleModel",
            "_view_count": null,
            "_view_module": "@jupyter-widgets/base",
            "_view_module_version": "1.2.0",
            "_view_name": "StyleView",
            "bar_color": null,
            "description_width": ""
          }
        },
        "67459af7512449168b2894c023f70e54": {
          "model_module": "@jupyter-widgets/controls",
          "model_module_version": "1.5.0",
          "model_name": "FloatProgressModel",
          "state": {
            "_dom_classes": [],
            "_model_module": "@jupyter-widgets/controls",
            "_model_module_version": "1.5.0",
            "_model_name": "FloatProgressModel",
            "_view_count": null,
            "_view_module": "@jupyter-widgets/controls",
            "_view_module_version": "1.5.0",
            "_view_name": "ProgressView",
            "bar_style": "success",
            "description": "",
            "description_tooltip": null,
            "layout": "IPY_MODEL_746ef9c89e3840aba18488250c83e4a9",
            "max": 2,
            "min": 0,
            "orientation": "horizontal",
            "style": "IPY_MODEL_85dad7e5a51f4b8fb9baa00932fc2238",
            "value": 2
          }
        },
        "69123197fbc24a5eb8d8db5c4c1f90fc": {
          "model_module": "@jupyter-widgets/controls",
          "model_module_version": "1.5.0",
          "model_name": "HBoxModel",
          "state": {
            "_dom_classes": [],
            "_model_module": "@jupyter-widgets/controls",
            "_model_module_version": "1.5.0",
            "_model_name": "HBoxModel",
            "_view_count": null,
            "_view_module": "@jupyter-widgets/controls",
            "_view_module_version": "1.5.0",
            "_view_name": "HBoxView",
            "box_style": "",
            "children": [
              "IPY_MODEL_39489d38177741a580d43158a617e4b2",
              "IPY_MODEL_090defc0634e4b218f296b7b6aca77e5",
              "IPY_MODEL_c723d6fdae09411f9fbe94d778db4257"
            ],
            "layout": "IPY_MODEL_c33387a473f845e79071f6c6cd325f06"
          }
        },
        "6ffdf52d8dd747f38c16ec9065bde446": {
          "model_module": "@jupyter-widgets/controls",
          "model_module_version": "1.5.0",
          "model_name": "DescriptionStyleModel",
          "state": {
            "_model_module": "@jupyter-widgets/controls",
            "_model_module_version": "1.5.0",
            "_model_name": "DescriptionStyleModel",
            "_view_count": null,
            "_view_module": "@jupyter-widgets/base",
            "_view_module_version": "1.2.0",
            "_view_name": "StyleView",
            "description_width": ""
          }
        },
        "743e9191508c40528a298233845784da": {
          "model_module": "@jupyter-widgets/base",
          "model_module_version": "1.2.0",
          "model_name": "LayoutModel",
          "state": {
            "_model_module": "@jupyter-widgets/base",
            "_model_module_version": "1.2.0",
            "_model_name": "LayoutModel",
            "_view_count": null,
            "_view_module": "@jupyter-widgets/base",
            "_view_module_version": "1.2.0",
            "_view_name": "LayoutView",
            "align_content": null,
            "align_items": null,
            "align_self": null,
            "border": null,
            "bottom": null,
            "display": null,
            "flex": null,
            "flex_flow": null,
            "grid_area": null,
            "grid_auto_columns": null,
            "grid_auto_flow": null,
            "grid_auto_rows": null,
            "grid_column": null,
            "grid_gap": null,
            "grid_row": null,
            "grid_template_areas": null,
            "grid_template_columns": null,
            "grid_template_rows": null,
            "height": null,
            "justify_content": null,
            "justify_items": null,
            "left": null,
            "margin": null,
            "max_height": null,
            "max_width": null,
            "min_height": null,
            "min_width": null,
            "object_fit": null,
            "object_position": null,
            "order": null,
            "overflow": null,
            "overflow_x": null,
            "overflow_y": null,
            "padding": null,
            "right": null,
            "top": null,
            "visibility": null,
            "width": null
          }
        },
        "746ef9c89e3840aba18488250c83e4a9": {
          "model_module": "@jupyter-widgets/base",
          "model_module_version": "1.2.0",
          "model_name": "LayoutModel",
          "state": {
            "_model_module": "@jupyter-widgets/base",
            "_model_module_version": "1.2.0",
            "_model_name": "LayoutModel",
            "_view_count": null,
            "_view_module": "@jupyter-widgets/base",
            "_view_module_version": "1.2.0",
            "_view_name": "LayoutView",
            "align_content": null,
            "align_items": null,
            "align_self": null,
            "border": null,
            "bottom": null,
            "display": null,
            "flex": null,
            "flex_flow": null,
            "grid_area": null,
            "grid_auto_columns": null,
            "grid_auto_flow": null,
            "grid_auto_rows": null,
            "grid_column": null,
            "grid_gap": null,
            "grid_row": null,
            "grid_template_areas": null,
            "grid_template_columns": null,
            "grid_template_rows": null,
            "height": null,
            "justify_content": null,
            "justify_items": null,
            "left": null,
            "margin": null,
            "max_height": null,
            "max_width": null,
            "min_height": null,
            "min_width": null,
            "object_fit": null,
            "object_position": null,
            "order": null,
            "overflow": null,
            "overflow_x": null,
            "overflow_y": null,
            "padding": null,
            "right": null,
            "top": null,
            "visibility": null,
            "width": null
          }
        },
        "76fd67056c694e87999286a5efbca8c2": {
          "model_module": "@jupyter-widgets/base",
          "model_module_version": "1.2.0",
          "model_name": "LayoutModel",
          "state": {
            "_model_module": "@jupyter-widgets/base",
            "_model_module_version": "1.2.0",
            "_model_name": "LayoutModel",
            "_view_count": null,
            "_view_module": "@jupyter-widgets/base",
            "_view_module_version": "1.2.0",
            "_view_name": "LayoutView",
            "align_content": null,
            "align_items": null,
            "align_self": null,
            "border": null,
            "bottom": null,
            "display": null,
            "flex": null,
            "flex_flow": null,
            "grid_area": null,
            "grid_auto_columns": null,
            "grid_auto_flow": null,
            "grid_auto_rows": null,
            "grid_column": null,
            "grid_gap": null,
            "grid_row": null,
            "grid_template_areas": null,
            "grid_template_columns": null,
            "grid_template_rows": null,
            "height": null,
            "justify_content": null,
            "justify_items": null,
            "left": null,
            "margin": null,
            "max_height": null,
            "max_width": null,
            "min_height": null,
            "min_width": null,
            "object_fit": null,
            "object_position": null,
            "order": null,
            "overflow": null,
            "overflow_x": null,
            "overflow_y": null,
            "padding": null,
            "right": null,
            "top": null,
            "visibility": null,
            "width": null
          }
        },
        "800c0b2463df4c948b8b3cd36eb4bcda": {
          "model_module": "@jupyter-widgets/controls",
          "model_module_version": "1.5.0",
          "model_name": "HBoxModel",
          "state": {
            "_dom_classes": [],
            "_model_module": "@jupyter-widgets/controls",
            "_model_module_version": "1.5.0",
            "_model_name": "HBoxModel",
            "_view_count": null,
            "_view_module": "@jupyter-widgets/controls",
            "_view_module_version": "1.5.0",
            "_view_name": "HBoxView",
            "box_style": "",
            "children": [
              "IPY_MODEL_e91ca8da271b417bac5768a4b72dc98d",
              "IPY_MODEL_d65a008e91e148b7b9b3efbad030592b",
              "IPY_MODEL_294bf69bc94140bf804d126c4e6f6d46"
            ],
            "layout": "IPY_MODEL_5cce4e3cee7641de975018e56ddaf8b7"
          }
        },
        "81c96d0c65f04bcba6aa7eededc5e418": {
          "model_module": "@jupyter-widgets/controls",
          "model_module_version": "1.5.0",
          "model_name": "HBoxModel",
          "state": {
            "_dom_classes": [],
            "_model_module": "@jupyter-widgets/controls",
            "_model_module_version": "1.5.0",
            "_model_name": "HBoxModel",
            "_view_count": null,
            "_view_module": "@jupyter-widgets/controls",
            "_view_module_version": "1.5.0",
            "_view_name": "HBoxView",
            "box_style": "",
            "children": [
              "IPY_MODEL_12ee852272c14af396c1ae286dbd0ecb",
              "IPY_MODEL_67459af7512449168b2894c023f70e54",
              "IPY_MODEL_4c26a5ddce8643f787fa1434bda9b365"
            ],
            "layout": "IPY_MODEL_e062d45696da42e0828c6714c6da7524"
          }
        },
        "8272e811cb4043a0b21d5a6f38d760ce": {
          "model_module": "@jupyter-widgets/base",
          "model_module_version": "1.2.0",
          "model_name": "LayoutModel",
          "state": {
            "_model_module": "@jupyter-widgets/base",
            "_model_module_version": "1.2.0",
            "_model_name": "LayoutModel",
            "_view_count": null,
            "_view_module": "@jupyter-widgets/base",
            "_view_module_version": "1.2.0",
            "_view_name": "LayoutView",
            "align_content": null,
            "align_items": null,
            "align_self": null,
            "border": null,
            "bottom": null,
            "display": null,
            "flex": null,
            "flex_flow": null,
            "grid_area": null,
            "grid_auto_columns": null,
            "grid_auto_flow": null,
            "grid_auto_rows": null,
            "grid_column": null,
            "grid_gap": null,
            "grid_row": null,
            "grid_template_areas": null,
            "grid_template_columns": null,
            "grid_template_rows": null,
            "height": null,
            "justify_content": null,
            "justify_items": null,
            "left": null,
            "margin": null,
            "max_height": null,
            "max_width": null,
            "min_height": null,
            "min_width": null,
            "object_fit": null,
            "object_position": null,
            "order": null,
            "overflow": null,
            "overflow_x": null,
            "overflow_y": null,
            "padding": null,
            "right": null,
            "top": null,
            "visibility": null,
            "width": null
          }
        },
        "83f1a66e47e94b18a116b1fc96377cb4": {
          "model_module": "@jupyter-widgets/controls",
          "model_module_version": "1.5.0",
          "model_name": "DescriptionStyleModel",
          "state": {
            "_model_module": "@jupyter-widgets/controls",
            "_model_module_version": "1.5.0",
            "_model_name": "DescriptionStyleModel",
            "_view_count": null,
            "_view_module": "@jupyter-widgets/base",
            "_view_module_version": "1.2.0",
            "_view_name": "StyleView",
            "description_width": ""
          }
        },
        "85b2ab222a04463c9a2b29e56aca3952": {
          "model_module": "@jupyter-widgets/controls",
          "model_module_version": "1.5.0",
          "model_name": "HTMLModel",
          "state": {
            "_dom_classes": [],
            "_model_module": "@jupyter-widgets/controls",
            "_model_module_version": "1.5.0",
            "_model_name": "HTMLModel",
            "_view_count": null,
            "_view_module": "@jupyter-widgets/controls",
            "_view_module_version": "1.5.0",
            "_view_name": "HTMLView",
            "description": "",
            "description_tooltip": null,
            "layout": "IPY_MODEL_18c468a36059410ebdd491842c768275",
            "placeholder": "​",
            "style": "IPY_MODEL_2645906c312249869a9ee1e993676d79",
            "value": "transcribing...: 100%"
          }
        },
        "85dad7e5a51f4b8fb9baa00932fc2238": {
          "model_module": "@jupyter-widgets/controls",
          "model_module_version": "1.5.0",
          "model_name": "ProgressStyleModel",
          "state": {
            "_model_module": "@jupyter-widgets/controls",
            "_model_module_version": "1.5.0",
            "_model_name": "ProgressStyleModel",
            "_view_count": null,
            "_view_module": "@jupyter-widgets/base",
            "_view_module_version": "1.2.0",
            "_view_name": "StyleView",
            "bar_color": null,
            "description_width": ""
          }
        },
        "8b79a45b8b6b457d9cca5489d7c777c8": {
          "model_module": "@jupyter-widgets/controls",
          "model_module_version": "1.5.0",
          "model_name": "FloatProgressModel",
          "state": {
            "_dom_classes": [],
            "_model_module": "@jupyter-widgets/controls",
            "_model_module_version": "1.5.0",
            "_model_name": "FloatProgressModel",
            "_view_count": null,
            "_view_module": "@jupyter-widgets/controls",
            "_view_module_version": "1.5.0",
            "_view_name": "ProgressView",
            "bar_style": "success",
            "description": "",
            "description_tooltip": null,
            "layout": "IPY_MODEL_fa0819b181cd417d8ba2c0b1d54176fd",
            "max": 456318,
            "min": 0,
            "orientation": "horizontal",
            "style": "IPY_MODEL_f294b1c7c355497c95b02405908023c9",
            "value": 456318
          }
        },
        "8ec04918fff147c1b556a0a4a9f3ea85": {
          "model_module": "@jupyter-widgets/controls",
          "model_module_version": "1.5.0",
          "model_name": "ProgressStyleModel",
          "state": {
            "_model_module": "@jupyter-widgets/controls",
            "_model_module_version": "1.5.0",
            "_model_name": "ProgressStyleModel",
            "_view_count": null,
            "_view_module": "@jupyter-widgets/base",
            "_view_module_version": "1.2.0",
            "_view_name": "StyleView",
            "bar_color": null,
            "description_width": ""
          }
        },
        "8f7df66050424c30b070eef1a8c7339b": {
          "model_module": "@jupyter-widgets/controls",
          "model_module_version": "1.5.0",
          "model_name": "HTMLModel",
          "state": {
            "_dom_classes": [],
            "_model_module": "@jupyter-widgets/controls",
            "_model_module_version": "1.5.0",
            "_model_name": "HTMLModel",
            "_view_count": null,
            "_view_module": "@jupyter-widgets/controls",
            "_view_module_version": "1.5.0",
            "_view_name": "HTMLView",
            "description": "",
            "description_tooltip": null,
            "layout": "IPY_MODEL_f33f0dfc77544d32b670164b27af531a",
            "placeholder": "​",
            "style": "IPY_MODEL_b75130de565b49d198714abe2b77d9a9",
            "value": " 1.80k/1.80k [00:00&lt;00:00, 36.1kB/s]"
          }
        },
        "91ca4344a2dc482e948f35b8c70b2334": {
          "model_module": "@jupyter-widgets/controls",
          "model_module_version": "1.5.0",
          "model_name": "DescriptionStyleModel",
          "state": {
            "_model_module": "@jupyter-widgets/controls",
            "_model_module_version": "1.5.0",
            "_model_name": "DescriptionStyleModel",
            "_view_count": null,
            "_view_module": "@jupyter-widgets/base",
            "_view_module_version": "1.2.0",
            "_view_name": "StyleView",
            "description_width": ""
          }
        },
        "93ec3cb2f573495fbd6a5628e0ca7139": {
          "model_module": "@jupyter-widgets/base",
          "model_module_version": "1.2.0",
          "model_name": "LayoutModel",
          "state": {
            "_model_module": "@jupyter-widgets/base",
            "_model_module_version": "1.2.0",
            "_model_name": "LayoutModel",
            "_view_count": null,
            "_view_module": "@jupyter-widgets/base",
            "_view_module_version": "1.2.0",
            "_view_name": "LayoutView",
            "align_content": null,
            "align_items": null,
            "align_self": null,
            "border": null,
            "bottom": null,
            "display": null,
            "flex": null,
            "flex_flow": null,
            "grid_area": null,
            "grid_auto_columns": null,
            "grid_auto_flow": null,
            "grid_auto_rows": null,
            "grid_column": null,
            "grid_gap": null,
            "grid_row": null,
            "grid_template_areas": null,
            "grid_template_columns": null,
            "grid_template_rows": null,
            "height": null,
            "justify_content": null,
            "justify_items": null,
            "left": null,
            "margin": null,
            "max_height": null,
            "max_width": null,
            "min_height": null,
            "min_width": null,
            "object_fit": null,
            "object_position": null,
            "order": null,
            "overflow": null,
            "overflow_x": null,
            "overflow_y": null,
            "padding": null,
            "right": null,
            "top": null,
            "visibility": null,
            "width": null
          }
        },
        "97514565bcba4b088966d6a5dc24f72b": {
          "model_module": "@jupyter-widgets/controls",
          "model_module_version": "1.5.0",
          "model_name": "HTMLModel",
          "state": {
            "_dom_classes": [],
            "_model_module": "@jupyter-widgets/controls",
            "_model_module_version": "1.5.0",
            "_model_name": "HTMLModel",
            "_view_count": null,
            "_view_module": "@jupyter-widgets/controls",
            "_view_module_version": "1.5.0",
            "_view_name": "HTMLView",
            "description": "",
            "description_tooltip": null,
            "layout": "IPY_MODEL_38556d01666049cc955b7c06f8800506",
            "placeholder": "​",
            "style": "IPY_MODEL_01db3b13160d47fe97c7afae87f7d41c",
            "value": " 26.0/26.0 [00:00&lt;00:00, 384B/s]"
          }
        },
        "995139380cd944a797b36315ac41d8ca": {
          "model_module": "@jupyter-widgets/base",
          "model_module_version": "1.2.0",
          "model_name": "LayoutModel",
          "state": {
            "_model_module": "@jupyter-widgets/base",
            "_model_module_version": "1.2.0",
            "_model_name": "LayoutModel",
            "_view_count": null,
            "_view_module": "@jupyter-widgets/base",
            "_view_module_version": "1.2.0",
            "_view_name": "LayoutView",
            "align_content": null,
            "align_items": null,
            "align_self": null,
            "border": null,
            "bottom": null,
            "display": null,
            "flex": null,
            "flex_flow": null,
            "grid_area": null,
            "grid_auto_columns": null,
            "grid_auto_flow": null,
            "grid_auto_rows": null,
            "grid_column": null,
            "grid_gap": null,
            "grid_row": null,
            "grid_template_areas": null,
            "grid_template_columns": null,
            "grid_template_rows": null,
            "height": null,
            "justify_content": null,
            "justify_items": null,
            "left": null,
            "margin": null,
            "max_height": null,
            "max_width": null,
            "min_height": null,
            "min_width": null,
            "object_fit": null,
            "object_position": null,
            "order": null,
            "overflow": null,
            "overflow_x": null,
            "overflow_y": null,
            "padding": null,
            "right": null,
            "top": null,
            "visibility": null,
            "width": null
          }
        },
        "9c347cdde55d4842a6acb1f468798c82": {
          "model_module": "@jupyter-widgets/base",
          "model_module_version": "1.2.0",
          "model_name": "LayoutModel",
          "state": {
            "_model_module": "@jupyter-widgets/base",
            "_model_module_version": "1.2.0",
            "_model_name": "LayoutModel",
            "_view_count": null,
            "_view_module": "@jupyter-widgets/base",
            "_view_module_version": "1.2.0",
            "_view_name": "LayoutView",
            "align_content": null,
            "align_items": null,
            "align_self": null,
            "border": null,
            "bottom": null,
            "display": null,
            "flex": null,
            "flex_flow": null,
            "grid_area": null,
            "grid_auto_columns": null,
            "grid_auto_flow": null,
            "grid_auto_rows": null,
            "grid_column": null,
            "grid_gap": null,
            "grid_row": null,
            "grid_template_areas": null,
            "grid_template_columns": null,
            "grid_template_rows": null,
            "height": null,
            "justify_content": null,
            "justify_items": null,
            "left": null,
            "margin": null,
            "max_height": null,
            "max_width": null,
            "min_height": null,
            "min_width": null,
            "object_fit": null,
            "object_position": null,
            "order": null,
            "overflow": null,
            "overflow_x": null,
            "overflow_y": null,
            "padding": null,
            "right": null,
            "top": null,
            "visibility": null,
            "width": null
          }
        },
        "9ec6b7f663ad4972a4287f2fbf4960ac": {
          "model_module": "@jupyter-widgets/controls",
          "model_module_version": "1.5.0",
          "model_name": "HTMLModel",
          "state": {
            "_dom_classes": [],
            "_model_module": "@jupyter-widgets/controls",
            "_model_module_version": "1.5.0",
            "_model_name": "HTMLModel",
            "_view_count": null,
            "_view_module": "@jupyter-widgets/controls",
            "_view_module_version": "1.5.0",
            "_view_name": "HTMLView",
            "description": "",
            "description_tooltip": null,
            "layout": "IPY_MODEL_c4cb0fb7739049179fc6e8b21ff4a131",
            "placeholder": "​",
            "style": "IPY_MODEL_d63934fadea74b9b92508fb562253767",
            "value": " 899k/899k [00:01&lt;00:00, 1.24MB/s]"
          }
        },
        "9ecc64bedfcf4601b4be8d3afbdf7223": {
          "model_module": "@jupyter-widgets/base",
          "model_module_version": "1.2.0",
          "model_name": "LayoutModel",
          "state": {
            "_model_module": "@jupyter-widgets/base",
            "_model_module_version": "1.2.0",
            "_model_name": "LayoutModel",
            "_view_count": null,
            "_view_module": "@jupyter-widgets/base",
            "_view_module_version": "1.2.0",
            "_view_name": "LayoutView",
            "align_content": null,
            "align_items": null,
            "align_self": null,
            "border": null,
            "bottom": null,
            "display": null,
            "flex": null,
            "flex_flow": null,
            "grid_area": null,
            "grid_auto_columns": null,
            "grid_auto_flow": null,
            "grid_auto_rows": null,
            "grid_column": null,
            "grid_gap": null,
            "grid_row": null,
            "grid_template_areas": null,
            "grid_template_columns": null,
            "grid_template_rows": null,
            "height": null,
            "justify_content": null,
            "justify_items": null,
            "left": null,
            "margin": null,
            "max_height": null,
            "max_width": null,
            "min_height": null,
            "min_width": null,
            "object_fit": null,
            "object_position": null,
            "order": null,
            "overflow": null,
            "overflow_x": null,
            "overflow_y": null,
            "padding": null,
            "right": null,
            "top": null,
            "visibility": null,
            "width": null
          }
        },
        "a179a16fb68247fa8ddbac9f12bad191": {
          "model_module": "@jupyter-widgets/controls",
          "model_module_version": "1.5.0",
          "model_name": "DescriptionStyleModel",
          "state": {
            "_model_module": "@jupyter-widgets/controls",
            "_model_module_version": "1.5.0",
            "_model_name": "DescriptionStyleModel",
            "_view_count": null,
            "_view_module": "@jupyter-widgets/base",
            "_view_module_version": "1.2.0",
            "_view_name": "StyleView",
            "description_width": ""
          }
        },
        "a47ed6dfca1b47c38d2d1ca49c3e8aba": {
          "model_module": "@jupyter-widgets/base",
          "model_module_version": "1.2.0",
          "model_name": "LayoutModel",
          "state": {
            "_model_module": "@jupyter-widgets/base",
            "_model_module_version": "1.2.0",
            "_model_name": "LayoutModel",
            "_view_count": null,
            "_view_module": "@jupyter-widgets/base",
            "_view_module_version": "1.2.0",
            "_view_name": "LayoutView",
            "align_content": null,
            "align_items": null,
            "align_self": null,
            "border": null,
            "bottom": null,
            "display": null,
            "flex": null,
            "flex_flow": null,
            "grid_area": null,
            "grid_auto_columns": null,
            "grid_auto_flow": null,
            "grid_auto_rows": null,
            "grid_column": null,
            "grid_gap": null,
            "grid_row": null,
            "grid_template_areas": null,
            "grid_template_columns": null,
            "grid_template_rows": null,
            "height": null,
            "justify_content": null,
            "justify_items": null,
            "left": null,
            "margin": null,
            "max_height": null,
            "max_width": null,
            "min_height": null,
            "min_width": null,
            "object_fit": null,
            "object_position": null,
            "order": null,
            "overflow": null,
            "overflow_x": null,
            "overflow_y": null,
            "padding": null,
            "right": null,
            "top": null,
            "visibility": null,
            "width": null
          }
        },
        "a4d3b09e31f74ef58ed2635494b9f548": {
          "model_module": "@jupyter-widgets/controls",
          "model_module_version": "1.5.0",
          "model_name": "HTMLModel",
          "state": {
            "_dom_classes": [],
            "_model_module": "@jupyter-widgets/controls",
            "_model_module_version": "1.5.0",
            "_model_name": "HTMLModel",
            "_view_count": null,
            "_view_module": "@jupyter-widgets/controls",
            "_view_module_version": "1.5.0",
            "_view_name": "HTMLView",
            "description": "",
            "description_tooltip": null,
            "layout": "IPY_MODEL_5a803efb24bd49809089b99a6e6c14a4",
            "placeholder": "​",
            "style": "IPY_MODEL_197219efca454e66a33525e3833e3340",
            "value": "Downloading: 100%"
          }
        },
        "a61e7fe8fdf849b89695df11af9655b7": {
          "model_module": "@jupyter-widgets/base",
          "model_module_version": "1.2.0",
          "model_name": "LayoutModel",
          "state": {
            "_model_module": "@jupyter-widgets/base",
            "_model_module_version": "1.2.0",
            "_model_name": "LayoutModel",
            "_view_count": null,
            "_view_module": "@jupyter-widgets/base",
            "_view_module_version": "1.2.0",
            "_view_name": "LayoutView",
            "align_content": null,
            "align_items": null,
            "align_self": null,
            "border": null,
            "bottom": null,
            "display": null,
            "flex": null,
            "flex_flow": null,
            "grid_area": null,
            "grid_auto_columns": null,
            "grid_auto_flow": null,
            "grid_auto_rows": null,
            "grid_column": null,
            "grid_gap": null,
            "grid_row": null,
            "grid_template_areas": null,
            "grid_template_columns": null,
            "grid_template_rows": null,
            "height": null,
            "justify_content": null,
            "justify_items": null,
            "left": null,
            "margin": null,
            "max_height": null,
            "max_width": null,
            "min_height": null,
            "min_width": null,
            "object_fit": null,
            "object_position": null,
            "order": null,
            "overflow": null,
            "overflow_x": null,
            "overflow_y": null,
            "padding": null,
            "right": null,
            "top": null,
            "visibility": null,
            "width": null
          }
        },
        "a7d8287e4a0c4cf4b6ddc7a2d2206127": {
          "model_module": "@jupyter-widgets/controls",
          "model_module_version": "1.5.0",
          "model_name": "DescriptionStyleModel",
          "state": {
            "_model_module": "@jupyter-widgets/controls",
            "_model_module_version": "1.5.0",
            "_model_name": "DescriptionStyleModel",
            "_view_count": null,
            "_view_module": "@jupyter-widgets/base",
            "_view_module_version": "1.2.0",
            "_view_name": "StyleView",
            "description_width": ""
          }
        },
        "a9e7898b5d334eb3b7f28d163be89763": {
          "model_module": "@jupyter-widgets/base",
          "model_module_version": "1.2.0",
          "model_name": "LayoutModel",
          "state": {
            "_model_module": "@jupyter-widgets/base",
            "_model_module_version": "1.2.0",
            "_model_name": "LayoutModel",
            "_view_count": null,
            "_view_module": "@jupyter-widgets/base",
            "_view_module_version": "1.2.0",
            "_view_name": "LayoutView",
            "align_content": null,
            "align_items": null,
            "align_self": null,
            "border": null,
            "bottom": null,
            "display": null,
            "flex": null,
            "flex_flow": null,
            "grid_area": null,
            "grid_auto_columns": null,
            "grid_auto_flow": null,
            "grid_auto_rows": null,
            "grid_column": null,
            "grid_gap": null,
            "grid_row": null,
            "grid_template_areas": null,
            "grid_template_columns": null,
            "grid_template_rows": null,
            "height": null,
            "justify_content": null,
            "justify_items": null,
            "left": null,
            "margin": null,
            "max_height": null,
            "max_width": null,
            "min_height": null,
            "min_width": null,
            "object_fit": null,
            "object_position": null,
            "order": null,
            "overflow": null,
            "overflow_x": null,
            "overflow_y": null,
            "padding": null,
            "right": null,
            "top": null,
            "visibility": null,
            "width": null
          }
        },
        "aec991236b3e4824b2f75c75c0bee612": {
          "model_module": "@jupyter-widgets/controls",
          "model_module_version": "1.5.0",
          "model_name": "FloatProgressModel",
          "state": {
            "_dom_classes": [],
            "_model_module": "@jupyter-widgets/controls",
            "_model_module_version": "1.5.0",
            "_model_name": "FloatProgressModel",
            "_view_count": null,
            "_view_module": "@jupyter-widgets/controls",
            "_view_module_version": "1.5.0",
            "_view_name": "ProgressView",
            "bar_style": "success",
            "description": "",
            "description_tooltip": null,
            "layout": "IPY_MODEL_9ecc64bedfcf4601b4be8d3afbdf7223",
            "max": 1802,
            "min": 0,
            "orientation": "horizontal",
            "style": "IPY_MODEL_ce36dc2c07e2443c8d45d77ea13b9b9b",
            "value": 1802
          }
        },
        "afa0f009ae9849fd880d8edb07b6cefc": {
          "model_module": "@jupyter-widgets/controls",
          "model_module_version": "1.5.0",
          "model_name": "DescriptionStyleModel",
          "state": {
            "_model_module": "@jupyter-widgets/controls",
            "_model_module_version": "1.5.0",
            "_model_name": "DescriptionStyleModel",
            "_view_count": null,
            "_view_module": "@jupyter-widgets/base",
            "_view_module_version": "1.2.0",
            "_view_name": "StyleView",
            "description_width": ""
          }
        },
        "afa546106127487785f899371a3ac7f5": {
          "model_module": "@jupyter-widgets/controls",
          "model_module_version": "1.5.0",
          "model_name": "HTMLModel",
          "state": {
            "_dom_classes": [],
            "_model_module": "@jupyter-widgets/controls",
            "_model_module_version": "1.5.0",
            "_model_name": "HTMLModel",
            "_view_count": null,
            "_view_module": "@jupyter-widgets/controls",
            "_view_module_version": "1.5.0",
            "_view_name": "HTMLView",
            "description": "",
            "description_tooltip": null,
            "layout": "IPY_MODEL_3f98bfcab65f4090b22e6372f3332fab",
            "placeholder": "​",
            "style": "IPY_MODEL_a179a16fb68247fa8ddbac9f12bad191",
            "value": "Downloading: 100%"
          }
        },
        "b213226689d3452bbce84de64471816d": {
          "model_module": "@jupyter-widgets/controls",
          "model_module_version": "1.5.0",
          "model_name": "DescriptionStyleModel",
          "state": {
            "_model_module": "@jupyter-widgets/controls",
            "_model_module_version": "1.5.0",
            "_model_name": "DescriptionStyleModel",
            "_view_count": null,
            "_view_module": "@jupyter-widgets/base",
            "_view_module_version": "1.2.0",
            "_view_name": "StyleView",
            "description_width": ""
          }
        },
        "b3d549d2320f46669b213cd0afca3478": {
          "model_module": "@jupyter-widgets/controls",
          "model_module_version": "1.5.0",
          "model_name": "ProgressStyleModel",
          "state": {
            "_model_module": "@jupyter-widgets/controls",
            "_model_module_version": "1.5.0",
            "_model_name": "ProgressStyleModel",
            "_view_count": null,
            "_view_module": "@jupyter-widgets/base",
            "_view_module_version": "1.2.0",
            "_view_name": "StyleView",
            "bar_color": null,
            "description_width": ""
          }
        },
        "b5ea58d407cd49cc93b59c9e447ddfd9": {
          "model_module": "@jupyter-widgets/base",
          "model_module_version": "1.2.0",
          "model_name": "LayoutModel",
          "state": {
            "_model_module": "@jupyter-widgets/base",
            "_model_module_version": "1.2.0",
            "_model_name": "LayoutModel",
            "_view_count": null,
            "_view_module": "@jupyter-widgets/base",
            "_view_module_version": "1.2.0",
            "_view_name": "LayoutView",
            "align_content": null,
            "align_items": null,
            "align_self": null,
            "border": null,
            "bottom": null,
            "display": null,
            "flex": null,
            "flex_flow": null,
            "grid_area": null,
            "grid_auto_columns": null,
            "grid_auto_flow": null,
            "grid_auto_rows": null,
            "grid_column": null,
            "grid_gap": null,
            "grid_row": null,
            "grid_template_areas": null,
            "grid_template_columns": null,
            "grid_template_rows": null,
            "height": null,
            "justify_content": null,
            "justify_items": null,
            "left": null,
            "margin": null,
            "max_height": null,
            "max_width": null,
            "min_height": null,
            "min_width": null,
            "object_fit": null,
            "object_position": null,
            "order": null,
            "overflow": null,
            "overflow_x": null,
            "overflow_y": null,
            "padding": null,
            "right": null,
            "top": null,
            "visibility": null,
            "width": null
          }
        },
        "b75130de565b49d198714abe2b77d9a9": {
          "model_module": "@jupyter-widgets/controls",
          "model_module_version": "1.5.0",
          "model_name": "DescriptionStyleModel",
          "state": {
            "_model_module": "@jupyter-widgets/controls",
            "_model_module_version": "1.5.0",
            "_model_name": "DescriptionStyleModel",
            "_view_count": null,
            "_view_module": "@jupyter-widgets/base",
            "_view_module_version": "1.2.0",
            "_view_name": "StyleView",
            "description_width": ""
          }
        },
        "c1017ef307ce443ea30857d90503e69d": {
          "model_module": "@jupyter-widgets/base",
          "model_module_version": "1.2.0",
          "model_name": "LayoutModel",
          "state": {
            "_model_module": "@jupyter-widgets/base",
            "_model_module_version": "1.2.0",
            "_model_name": "LayoutModel",
            "_view_count": null,
            "_view_module": "@jupyter-widgets/base",
            "_view_module_version": "1.2.0",
            "_view_name": "LayoutView",
            "align_content": null,
            "align_items": null,
            "align_self": null,
            "border": null,
            "bottom": null,
            "display": null,
            "flex": null,
            "flex_flow": null,
            "grid_area": null,
            "grid_auto_columns": null,
            "grid_auto_flow": null,
            "grid_auto_rows": null,
            "grid_column": null,
            "grid_gap": null,
            "grid_row": null,
            "grid_template_areas": null,
            "grid_template_columns": null,
            "grid_template_rows": null,
            "height": null,
            "justify_content": null,
            "justify_items": null,
            "left": null,
            "margin": null,
            "max_height": null,
            "max_width": null,
            "min_height": null,
            "min_width": null,
            "object_fit": null,
            "object_position": null,
            "order": null,
            "overflow": null,
            "overflow_x": null,
            "overflow_y": null,
            "padding": null,
            "right": null,
            "top": null,
            "visibility": null,
            "width": null
          }
        },
        "c33387a473f845e79071f6c6cd325f06": {
          "model_module": "@jupyter-widgets/base",
          "model_module_version": "1.2.0",
          "model_name": "LayoutModel",
          "state": {
            "_model_module": "@jupyter-widgets/base",
            "_model_module_version": "1.2.0",
            "_model_name": "LayoutModel",
            "_view_count": null,
            "_view_module": "@jupyter-widgets/base",
            "_view_module_version": "1.2.0",
            "_view_name": "LayoutView",
            "align_content": null,
            "align_items": null,
            "align_self": null,
            "border": null,
            "bottom": null,
            "display": null,
            "flex": null,
            "flex_flow": null,
            "grid_area": null,
            "grid_auto_columns": null,
            "grid_auto_flow": null,
            "grid_auto_rows": null,
            "grid_column": null,
            "grid_gap": null,
            "grid_row": null,
            "grid_template_areas": null,
            "grid_template_columns": null,
            "grid_template_rows": null,
            "height": null,
            "justify_content": null,
            "justify_items": null,
            "left": null,
            "margin": null,
            "max_height": null,
            "max_width": null,
            "min_height": null,
            "min_width": null,
            "object_fit": null,
            "object_position": null,
            "order": null,
            "overflow": null,
            "overflow_x": null,
            "overflow_y": null,
            "padding": null,
            "right": null,
            "top": null,
            "visibility": null,
            "width": null
          }
        },
        "c4cb0fb7739049179fc6e8b21ff4a131": {
          "model_module": "@jupyter-widgets/base",
          "model_module_version": "1.2.0",
          "model_name": "LayoutModel",
          "state": {
            "_model_module": "@jupyter-widgets/base",
            "_model_module_version": "1.2.0",
            "_model_name": "LayoutModel",
            "_view_count": null,
            "_view_module": "@jupyter-widgets/base",
            "_view_module_version": "1.2.0",
            "_view_name": "LayoutView",
            "align_content": null,
            "align_items": null,
            "align_self": null,
            "border": null,
            "bottom": null,
            "display": null,
            "flex": null,
            "flex_flow": null,
            "grid_area": null,
            "grid_auto_columns": null,
            "grid_auto_flow": null,
            "grid_auto_rows": null,
            "grid_column": null,
            "grid_gap": null,
            "grid_row": null,
            "grid_template_areas": null,
            "grid_template_columns": null,
            "grid_template_rows": null,
            "height": null,
            "justify_content": null,
            "justify_items": null,
            "left": null,
            "margin": null,
            "max_height": null,
            "max_width": null,
            "min_height": null,
            "min_width": null,
            "object_fit": null,
            "object_position": null,
            "order": null,
            "overflow": null,
            "overflow_x": null,
            "overflow_y": null,
            "padding": null,
            "right": null,
            "top": null,
            "visibility": null,
            "width": null
          }
        },
        "c723d6fdae09411f9fbe94d778db4257": {
          "model_module": "@jupyter-widgets/controls",
          "model_module_version": "1.5.0",
          "model_name": "HTMLModel",
          "state": {
            "_dom_classes": [],
            "_model_module": "@jupyter-widgets/controls",
            "_model_module_version": "1.5.0",
            "_model_name": "HTMLModel",
            "_view_count": null,
            "_view_module": "@jupyter-widgets/controls",
            "_view_module_version": "1.5.0",
            "_view_name": "HTMLView",
            "description": "",
            "description_tooltip": null,
            "layout": "IPY_MODEL_8272e811cb4043a0b21d5a6f38d760ce",
            "placeholder": "​",
            "style": "IPY_MODEL_335af7028a0b4cc6be980dac4cd5b889",
            "value": " 42/42 [00:00&lt;00:00, 216.80it/s]"
          }
        },
        "cab47d6aaec5401e9be42c4d05c0b4d5": {
          "model_module": "@jupyter-widgets/controls",
          "model_module_version": "1.5.0",
          "model_name": "ProgressStyleModel",
          "state": {
            "_model_module": "@jupyter-widgets/controls",
            "_model_module_version": "1.5.0",
            "_model_name": "ProgressStyleModel",
            "_view_count": null,
            "_view_module": "@jupyter-widgets/base",
            "_view_module_version": "1.2.0",
            "_view_name": "StyleView",
            "bar_color": null,
            "description_width": ""
          }
        },
        "cb3f17c3459442c394adf35143a8b9c1": {
          "model_module": "@jupyter-widgets/controls",
          "model_module_version": "1.5.0",
          "model_name": "HBoxModel",
          "state": {
            "_dom_classes": [],
            "_model_module": "@jupyter-widgets/controls",
            "_model_module_version": "1.5.0",
            "_model_name": "HBoxModel",
            "_view_count": null,
            "_view_module": "@jupyter-widgets/controls",
            "_view_module_version": "1.5.0",
            "_view_name": "HBoxView",
            "box_style": "",
            "children": [
              "IPY_MODEL_3ec14b73cd3f4f8eb034b9e7c1be0f77",
              "IPY_MODEL_4f9e650b776e4e26964a46a315977d19",
              "IPY_MODEL_9ec6b7f663ad4972a4287f2fbf4960ac"
            ],
            "layout": "IPY_MODEL_743e9191508c40528a298233845784da"
          }
        },
        "cdee7c262ad4449894ad8c247a97ddc9": {
          "model_module": "@jupyter-widgets/controls",
          "model_module_version": "1.5.0",
          "model_name": "HTMLModel",
          "state": {
            "_dom_classes": [],
            "_model_module": "@jupyter-widgets/controls",
            "_model_module_version": "1.5.0",
            "_model_name": "HTMLModel",
            "_view_count": null,
            "_view_module": "@jupyter-widgets/controls",
            "_view_module_version": "1.5.0",
            "_view_name": "HTMLView",
            "description": "",
            "description_tooltip": null,
            "layout": "IPY_MODEL_db08bdba2fac4afb93a1cf7e8d9e3858",
            "placeholder": "​",
            "style": "IPY_MODEL_afa0f009ae9849fd880d8edb07b6cefc",
            "value": " 456k/456k [00:00&lt;00:00, 571kB/s]"
          }
        },
        "ce36dc2c07e2443c8d45d77ea13b9b9b": {
          "model_module": "@jupyter-widgets/controls",
          "model_module_version": "1.5.0",
          "model_name": "ProgressStyleModel",
          "state": {
            "_model_module": "@jupyter-widgets/controls",
            "_model_module_version": "1.5.0",
            "_model_name": "ProgressStyleModel",
            "_view_count": null,
            "_view_module": "@jupyter-widgets/base",
            "_view_module_version": "1.2.0",
            "_view_name": "StyleView",
            "bar_color": null,
            "description_width": ""
          }
        },
        "cfb852e25c1c476ba0c1ef9456b69f0d": {
          "model_module": "@jupyter-widgets/controls",
          "model_module_version": "1.5.0",
          "model_name": "HBoxModel",
          "state": {
            "_dom_classes": [],
            "_model_module": "@jupyter-widgets/controls",
            "_model_module_version": "1.5.0",
            "_model_name": "HBoxModel",
            "_view_count": null,
            "_view_module": "@jupyter-widgets/controls",
            "_view_module_version": "1.5.0",
            "_view_name": "HBoxView",
            "box_style": "",
            "children": [
              "IPY_MODEL_afa546106127487785f899371a3ac7f5",
              "IPY_MODEL_aec991236b3e4824b2f75c75c0bee612",
              "IPY_MODEL_8f7df66050424c30b070eef1a8c7339b"
            ],
            "layout": "IPY_MODEL_1ef19f5400734095a10b5a33ea1ed587"
          }
        },
        "d63934fadea74b9b92508fb562253767": {
          "model_module": "@jupyter-widgets/controls",
          "model_module_version": "1.5.0",
          "model_name": "DescriptionStyleModel",
          "state": {
            "_model_module": "@jupyter-widgets/controls",
            "_model_module_version": "1.5.0",
            "_model_name": "DescriptionStyleModel",
            "_view_count": null,
            "_view_module": "@jupyter-widgets/base",
            "_view_module_version": "1.2.0",
            "_view_name": "StyleView",
            "description_width": ""
          }
        },
        "d65a008e91e148b7b9b3efbad030592b": {
          "model_module": "@jupyter-widgets/controls",
          "model_module_version": "1.5.0",
          "model_name": "FloatProgressModel",
          "state": {
            "_dom_classes": [],
            "_model_module": "@jupyter-widgets/controls",
            "_model_module_version": "1.5.0",
            "_model_name": "FloatProgressModel",
            "_view_count": null,
            "_view_module": "@jupyter-widgets/controls",
            "_view_module_version": "1.5.0",
            "_view_name": "ProgressView",
            "bar_style": "success",
            "description": "",
            "description_tooltip": null,
            "layout": "IPY_MODEL_c1017ef307ce443ea30857d90503e69d",
            "max": 1222317369,
            "min": 0,
            "orientation": "horizontal",
            "style": "IPY_MODEL_b3d549d2320f46669b213cd0afca3478",
            "value": 1222317369
          }
        },
        "d7f39524db8f474291e96d2dce04e1eb": {
          "model_module": "@jupyter-widgets/base",
          "model_module_version": "1.2.0",
          "model_name": "LayoutModel",
          "state": {
            "_model_module": "@jupyter-widgets/base",
            "_model_module_version": "1.2.0",
            "_model_name": "LayoutModel",
            "_view_count": null,
            "_view_module": "@jupyter-widgets/base",
            "_view_module_version": "1.2.0",
            "_view_name": "LayoutView",
            "align_content": null,
            "align_items": null,
            "align_self": null,
            "border": null,
            "bottom": null,
            "display": null,
            "flex": null,
            "flex_flow": null,
            "grid_area": null,
            "grid_auto_columns": null,
            "grid_auto_flow": null,
            "grid_auto_rows": null,
            "grid_column": null,
            "grid_gap": null,
            "grid_row": null,
            "grid_template_areas": null,
            "grid_template_columns": null,
            "grid_template_rows": null,
            "height": null,
            "justify_content": null,
            "justify_items": null,
            "left": null,
            "margin": null,
            "max_height": null,
            "max_width": null,
            "min_height": null,
            "min_width": null,
            "object_fit": null,
            "object_position": null,
            "order": null,
            "overflow": null,
            "overflow_x": null,
            "overflow_y": null,
            "padding": null,
            "right": null,
            "top": null,
            "visibility": null,
            "width": null
          }
        },
        "db08bdba2fac4afb93a1cf7e8d9e3858": {
          "model_module": "@jupyter-widgets/base",
          "model_module_version": "1.2.0",
          "model_name": "LayoutModel",
          "state": {
            "_model_module": "@jupyter-widgets/base",
            "_model_module_version": "1.2.0",
            "_model_name": "LayoutModel",
            "_view_count": null,
            "_view_module": "@jupyter-widgets/base",
            "_view_module_version": "1.2.0",
            "_view_name": "LayoutView",
            "align_content": null,
            "align_items": null,
            "align_self": null,
            "border": null,
            "bottom": null,
            "display": null,
            "flex": null,
            "flex_flow": null,
            "grid_area": null,
            "grid_auto_columns": null,
            "grid_auto_flow": null,
            "grid_auto_rows": null,
            "grid_column": null,
            "grid_gap": null,
            "grid_row": null,
            "grid_template_areas": null,
            "grid_template_columns": null,
            "grid_template_rows": null,
            "height": null,
            "justify_content": null,
            "justify_items": null,
            "left": null,
            "margin": null,
            "max_height": null,
            "max_width": null,
            "min_height": null,
            "min_width": null,
            "object_fit": null,
            "object_position": null,
            "order": null,
            "overflow": null,
            "overflow_x": null,
            "overflow_y": null,
            "padding": null,
            "right": null,
            "top": null,
            "visibility": null,
            "width": null
          }
        },
        "de14caceecbc40b6b406b16162fcc9f8": {
          "model_module": "@jupyter-widgets/controls",
          "model_module_version": "1.5.0",
          "model_name": "HBoxModel",
          "state": {
            "_dom_classes": [],
            "_model_module": "@jupyter-widgets/controls",
            "_model_module_version": "1.5.0",
            "_model_name": "HBoxModel",
            "_view_count": null,
            "_view_module": "@jupyter-widgets/controls",
            "_view_module_version": "1.5.0",
            "_view_name": "HBoxView",
            "box_style": "",
            "children": [
              "IPY_MODEL_85b2ab222a04463c9a2b29e56aca3952",
              "IPY_MODEL_f8f9188b3f034f358f69a02a32510ece",
              "IPY_MODEL_1d97048fc10c48cc8eb5a8d005cad0de"
            ],
            "layout": "IPY_MODEL_f95cbd7d467a4810a4e62ec92740b4d3"
          }
        },
        "e062d45696da42e0828c6714c6da7524": {
          "model_module": "@jupyter-widgets/base",
          "model_module_version": "1.2.0",
          "model_name": "LayoutModel",
          "state": {
            "_model_module": "@jupyter-widgets/base",
            "_model_module_version": "1.2.0",
            "_model_name": "LayoutModel",
            "_view_count": null,
            "_view_module": "@jupyter-widgets/base",
            "_view_module_version": "1.2.0",
            "_view_name": "LayoutView",
            "align_content": null,
            "align_items": null,
            "align_self": null,
            "border": null,
            "bottom": null,
            "display": null,
            "flex": null,
            "flex_flow": null,
            "grid_area": null,
            "grid_auto_columns": null,
            "grid_auto_flow": null,
            "grid_auto_rows": null,
            "grid_column": null,
            "grid_gap": null,
            "grid_row": null,
            "grid_template_areas": null,
            "grid_template_columns": null,
            "grid_template_rows": null,
            "height": null,
            "justify_content": null,
            "justify_items": null,
            "left": null,
            "margin": null,
            "max_height": null,
            "max_width": null,
            "min_height": null,
            "min_width": null,
            "object_fit": null,
            "object_position": null,
            "order": null,
            "overflow": null,
            "overflow_x": null,
            "overflow_y": null,
            "padding": null,
            "right": null,
            "top": null,
            "visibility": null,
            "width": null
          }
        },
        "e1128c7155834b58914c1d9545952ea1": {
          "model_module": "@jupyter-widgets/base",
          "model_module_version": "1.2.0",
          "model_name": "LayoutModel",
          "state": {
            "_model_module": "@jupyter-widgets/base",
            "_model_module_version": "1.2.0",
            "_model_name": "LayoutModel",
            "_view_count": null,
            "_view_module": "@jupyter-widgets/base",
            "_view_module_version": "1.2.0",
            "_view_name": "LayoutView",
            "align_content": null,
            "align_items": null,
            "align_self": null,
            "border": null,
            "bottom": null,
            "display": null,
            "flex": null,
            "flex_flow": null,
            "grid_area": null,
            "grid_auto_columns": null,
            "grid_auto_flow": null,
            "grid_auto_rows": null,
            "grid_column": null,
            "grid_gap": null,
            "grid_row": null,
            "grid_template_areas": null,
            "grid_template_columns": null,
            "grid_template_rows": null,
            "height": null,
            "justify_content": null,
            "justify_items": null,
            "left": null,
            "margin": null,
            "max_height": null,
            "max_width": null,
            "min_height": null,
            "min_width": null,
            "object_fit": null,
            "object_position": null,
            "order": null,
            "overflow": null,
            "overflow_x": null,
            "overflow_y": null,
            "padding": null,
            "right": null,
            "top": null,
            "visibility": null,
            "width": null
          }
        },
        "e91ca8da271b417bac5768a4b72dc98d": {
          "model_module": "@jupyter-widgets/controls",
          "model_module_version": "1.5.0",
          "model_name": "HTMLModel",
          "state": {
            "_dom_classes": [],
            "_model_module": "@jupyter-widgets/controls",
            "_model_module_version": "1.5.0",
            "_model_name": "HTMLModel",
            "_view_count": null,
            "_view_module": "@jupyter-widgets/controls",
            "_view_module_version": "1.5.0",
            "_view_name": "HTMLView",
            "description": "",
            "description_tooltip": null,
            "layout": "IPY_MODEL_b5ea58d407cd49cc93b59c9e447ddfd9",
            "placeholder": "​",
            "style": "IPY_MODEL_91ca4344a2dc482e948f35b8c70b2334",
            "value": "Downloading: 100%"
          }
        },
        "f1b170d24f284760844b77946f354e23": {
          "model_module": "@jupyter-widgets/base",
          "model_module_version": "1.2.0",
          "model_name": "LayoutModel",
          "state": {
            "_model_module": "@jupyter-widgets/base",
            "_model_module_version": "1.2.0",
            "_model_name": "LayoutModel",
            "_view_count": null,
            "_view_module": "@jupyter-widgets/base",
            "_view_module_version": "1.2.0",
            "_view_name": "LayoutView",
            "align_content": null,
            "align_items": null,
            "align_self": null,
            "border": null,
            "bottom": null,
            "display": null,
            "flex": null,
            "flex_flow": null,
            "grid_area": null,
            "grid_auto_columns": null,
            "grid_auto_flow": null,
            "grid_auto_rows": null,
            "grid_column": null,
            "grid_gap": null,
            "grid_row": null,
            "grid_template_areas": null,
            "grid_template_columns": null,
            "grid_template_rows": null,
            "height": null,
            "justify_content": null,
            "justify_items": null,
            "left": null,
            "margin": null,
            "max_height": null,
            "max_width": null,
            "min_height": null,
            "min_width": null,
            "object_fit": null,
            "object_position": null,
            "order": null,
            "overflow": null,
            "overflow_x": null,
            "overflow_y": null,
            "padding": null,
            "right": null,
            "top": null,
            "visibility": null,
            "width": null
          }
        },
        "f294b1c7c355497c95b02405908023c9": {
          "model_module": "@jupyter-widgets/controls",
          "model_module_version": "1.5.0",
          "model_name": "ProgressStyleModel",
          "state": {
            "_model_module": "@jupyter-widgets/controls",
            "_model_module_version": "1.5.0",
            "_model_name": "ProgressStyleModel",
            "_view_count": null,
            "_view_module": "@jupyter-widgets/base",
            "_view_module_version": "1.2.0",
            "_view_name": "StyleView",
            "bar_color": null,
            "description_width": ""
          }
        },
        "f2aade17b2494b0da5c93d02e1f5e866": {
          "model_module": "@jupyter-widgets/controls",
          "model_module_version": "1.5.0",
          "model_name": "DescriptionStyleModel",
          "state": {
            "_model_module": "@jupyter-widgets/controls",
            "_model_module_version": "1.5.0",
            "_model_name": "DescriptionStyleModel",
            "_view_count": null,
            "_view_module": "@jupyter-widgets/base",
            "_view_module_version": "1.2.0",
            "_view_name": "StyleView",
            "description_width": ""
          }
        },
        "f33f0dfc77544d32b670164b27af531a": {
          "model_module": "@jupyter-widgets/base",
          "model_module_version": "1.2.0",
          "model_name": "LayoutModel",
          "state": {
            "_model_module": "@jupyter-widgets/base",
            "_model_module_version": "1.2.0",
            "_model_name": "LayoutModel",
            "_view_count": null,
            "_view_module": "@jupyter-widgets/base",
            "_view_module_version": "1.2.0",
            "_view_name": "LayoutView",
            "align_content": null,
            "align_items": null,
            "align_self": null,
            "border": null,
            "bottom": null,
            "display": null,
            "flex": null,
            "flex_flow": null,
            "grid_area": null,
            "grid_auto_columns": null,
            "grid_auto_flow": null,
            "grid_auto_rows": null,
            "grid_column": null,
            "grid_gap": null,
            "grid_row": null,
            "grid_template_areas": null,
            "grid_template_columns": null,
            "grid_template_rows": null,
            "height": null,
            "justify_content": null,
            "justify_items": null,
            "left": null,
            "margin": null,
            "max_height": null,
            "max_width": null,
            "min_height": null,
            "min_width": null,
            "object_fit": null,
            "object_position": null,
            "order": null,
            "overflow": null,
            "overflow_x": null,
            "overflow_y": null,
            "padding": null,
            "right": null,
            "top": null,
            "visibility": null,
            "width": null
          }
        },
        "f48988c4273e4d84bb42ef9d22708494": {
          "model_module": "@jupyter-widgets/controls",
          "model_module_version": "1.5.0",
          "model_name": "ProgressStyleModel",
          "state": {
            "_model_module": "@jupyter-widgets/controls",
            "_model_module_version": "1.5.0",
            "_model_name": "ProgressStyleModel",
            "_view_count": null,
            "_view_module": "@jupyter-widgets/base",
            "_view_module_version": "1.2.0",
            "_view_name": "StyleView",
            "bar_color": null,
            "description_width": ""
          }
        },
        "f8f9188b3f034f358f69a02a32510ece": {
          "model_module": "@jupyter-widgets/controls",
          "model_module_version": "1.5.0",
          "model_name": "FloatProgressModel",
          "state": {
            "_dom_classes": [],
            "_model_module": "@jupyter-widgets/controls",
            "_model_module_version": "1.5.0",
            "_model_name": "FloatProgressModel",
            "_view_count": null,
            "_view_module": "@jupyter-widgets/controls",
            "_view_module_version": "1.5.0",
            "_view_name": "ProgressView",
            "bar_style": "success",
            "description": "",
            "description_tooltip": null,
            "layout": "IPY_MODEL_e1128c7155834b58914c1d9545952ea1",
            "max": 1,
            "min": 0,
            "orientation": "horizontal",
            "style": "IPY_MODEL_64de9d7ebb6746308536c2a981f10fe8",
            "value": 1
          }
        },
        "f95cbd7d467a4810a4e62ec92740b4d3": {
          "model_module": "@jupyter-widgets/base",
          "model_module_version": "1.2.0",
          "model_name": "LayoutModel",
          "state": {
            "_model_module": "@jupyter-widgets/base",
            "_model_module_version": "1.2.0",
            "_model_name": "LayoutModel",
            "_view_count": null,
            "_view_module": "@jupyter-widgets/base",
            "_view_module_version": "1.2.0",
            "_view_name": "LayoutView",
            "align_content": null,
            "align_items": null,
            "align_self": null,
            "border": null,
            "bottom": null,
            "display": null,
            "flex": null,
            "flex_flow": null,
            "grid_area": null,
            "grid_auto_columns": null,
            "grid_auto_flow": null,
            "grid_auto_rows": null,
            "grid_column": null,
            "grid_gap": null,
            "grid_row": null,
            "grid_template_areas": null,
            "grid_template_columns": null,
            "grid_template_rows": null,
            "height": null,
            "justify_content": null,
            "justify_items": null,
            "left": null,
            "margin": null,
            "max_height": null,
            "max_width": null,
            "min_height": null,
            "min_width": null,
            "object_fit": null,
            "object_position": null,
            "order": null,
            "overflow": null,
            "overflow_x": null,
            "overflow_y": null,
            "padding": null,
            "right": null,
            "top": null,
            "visibility": null,
            "width": null
          }
        },
        "fa0819b181cd417d8ba2c0b1d54176fd": {
          "model_module": "@jupyter-widgets/base",
          "model_module_version": "1.2.0",
          "model_name": "LayoutModel",
          "state": {
            "_model_module": "@jupyter-widgets/base",
            "_model_module_version": "1.2.0",
            "_model_name": "LayoutModel",
            "_view_count": null,
            "_view_module": "@jupyter-widgets/base",
            "_view_module_version": "1.2.0",
            "_view_name": "LayoutView",
            "align_content": null,
            "align_items": null,
            "align_self": null,
            "border": null,
            "bottom": null,
            "display": null,
            "flex": null,
            "flex_flow": null,
            "grid_area": null,
            "grid_auto_columns": null,
            "grid_auto_flow": null,
            "grid_auto_rows": null,
            "grid_column": null,
            "grid_gap": null,
            "grid_row": null,
            "grid_template_areas": null,
            "grid_template_columns": null,
            "grid_template_rows": null,
            "height": null,
            "justify_content": null,
            "justify_items": null,
            "left": null,
            "margin": null,
            "max_height": null,
            "max_width": null,
            "min_height": null,
            "min_width": null,
            "object_fit": null,
            "object_position": null,
            "order": null,
            "overflow": null,
            "overflow_x": null,
            "overflow_y": null,
            "padding": null,
            "right": null,
            "top": null,
            "visibility": null,
            "width": null
          }
        },
        "fa126a42c9bc4df4adbb39436b97187d": {
          "model_module": "@jupyter-widgets/base",
          "model_module_version": "1.2.0",
          "model_name": "LayoutModel",
          "state": {
            "_model_module": "@jupyter-widgets/base",
            "_model_module_version": "1.2.0",
            "_model_name": "LayoutModel",
            "_view_count": null,
            "_view_module": "@jupyter-widgets/base",
            "_view_module_version": "1.2.0",
            "_view_name": "LayoutView",
            "align_content": null,
            "align_items": null,
            "align_self": null,
            "border": null,
            "bottom": null,
            "display": null,
            "flex": null,
            "flex_flow": null,
            "grid_area": null,
            "grid_auto_columns": null,
            "grid_auto_flow": null,
            "grid_auto_rows": null,
            "grid_column": null,
            "grid_gap": null,
            "grid_row": null,
            "grid_template_areas": null,
            "grid_template_columns": null,
            "grid_template_rows": null,
            "height": null,
            "justify_content": null,
            "justify_items": null,
            "left": null,
            "margin": null,
            "max_height": null,
            "max_width": null,
            "min_height": null,
            "min_width": null,
            "object_fit": null,
            "object_position": null,
            "order": null,
            "overflow": null,
            "overflow_x": null,
            "overflow_y": null,
            "padding": null,
            "right": null,
            "top": null,
            "visibility": null,
            "width": null
          }
        },
        "ff530a15ff554c07a514fc896d7f08f9": {
          "model_module": "@jupyter-widgets/controls",
          "model_module_version": "1.5.0",
          "model_name": "HBoxModel",
          "state": {
            "_dom_classes": [],
            "_model_module": "@jupyter-widgets/controls",
            "_model_module_version": "1.5.0",
            "_model_name": "HBoxModel",
            "_view_count": null,
            "_view_module": "@jupyter-widgets/controls",
            "_view_module_version": "1.5.0",
            "_view_name": "HBoxView",
            "box_style": "",
            "children": [
              "IPY_MODEL_4e636a89f83c427a957e1b0455a5edb0",
              "IPY_MODEL_2a529709cf1e48c2816945211b36ca5b",
              "IPY_MODEL_2e5b2a5751a24924b8ac2e954314ee31"
            ],
            "layout": "IPY_MODEL_4a48c35885144c87841484ddbfbfd6a0"
          }
        }
      }
    }
  },
  "nbformat": 4,
  "nbformat_minor": 0
}
